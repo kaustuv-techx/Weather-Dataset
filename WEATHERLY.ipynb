{
  "nbformat": 4,
  "nbformat_minor": 0,
  "metadata": {
    "colab": {
      "name": "WEATHERLY.ipynb",
      "provenance": [],
      "authorship_tag": "ABX9TyMya2Ep22g3G/YSrn66dlhH",
      "include_colab_link": true
    },
    "kernelspec": {
      "name": "python3",
      "display_name": "Python 3"
    },
    "language_info": {
      "name": "python"
    }
  },
  "cells": [
    {
      "cell_type": "markdown",
      "metadata": {
        "id": "view-in-github",
        "colab_type": "text"
      },
      "source": [
        "<a href=\"https://colab.research.google.com/github/kaustuv-techx/Weather-Dataset/blob/main/WEATHERLY.ipynb\" target=\"_parent\"><img src=\"https://colab.research.google.com/assets/colab-badge.svg\" alt=\"Open In Colab\"/></a>"
      ]
    },
    {
      "cell_type": "markdown",
      "metadata": {
        "id": "nxDJTCu5cIWM"
      },
      "source": [
        "**USING WEATHER DATA TO WORK ON A PYTHON PROJECT**"
      ]
    },
    {
      "cell_type": "markdown",
      "metadata": {
        "id": "FF_tiiXNgK0O"
      },
      "source": [
        "***The Weather Dataset***"
      ]
    },
    {
      "cell_type": "markdown",
      "metadata": {
        "id": "TkdKJxkzgboz"
      },
      "source": [
        "Here the weather Dataset is data set with information about weather conditions at a location. It records temperature , humidity , wind speed , pressure , conditions and dew point temperature"
      ]
    },
    {
      "cell_type": "code",
      "metadata": {
        "id": "EwqxxvFHcEYW"
      },
      "source": [
        "import pandas as pd"
      ],
      "execution_count": 1,
      "outputs": []
    },
    {
      "cell_type": "code",
      "metadata": {
        "id": "MKrPHEqgiL2I"
      },
      "source": [
        "url = 'https://raw.githubusercontent.com/kaustuv-techx/Weather-Dataset/main/1.%20Weather%20Data.csv'\n",
        "data = pd.read_csv(url)\n",
        "# Dataset is now stored in a Pandas Dataframe"
      ],
      "execution_count": 18,
      "outputs": []
    },
    {
      "cell_type": "code",
      "metadata": {
        "colab": {
          "base_uri": "https://localhost:8080/",
          "height": 419
        },
        "id": "_qO0E5OClCxi",
        "outputId": "cd6aa63a-3d9a-4d4b-d84e-750285f4592a"
      },
      "source": [
        "data"
      ],
      "execution_count": 19,
      "outputs": [
        {
          "output_type": "execute_result",
          "data": {
            "text/html": [
              "<div>\n",
              "<style scoped>\n",
              "    .dataframe tbody tr th:only-of-type {\n",
              "        vertical-align: middle;\n",
              "    }\n",
              "\n",
              "    .dataframe tbody tr th {\n",
              "        vertical-align: top;\n",
              "    }\n",
              "\n",
              "    .dataframe thead th {\n",
              "        text-align: right;\n",
              "    }\n",
              "</style>\n",
              "<table border=\"1\" class=\"dataframe\">\n",
              "  <thead>\n",
              "    <tr style=\"text-align: right;\">\n",
              "      <th></th>\n",
              "      <th>Date/Time</th>\n",
              "      <th>Temp_C</th>\n",
              "      <th>Dew Point Temp_C</th>\n",
              "      <th>Rel Hum_%</th>\n",
              "      <th>Wind Speed_km/h</th>\n",
              "      <th>Visibility_km</th>\n",
              "      <th>Press_kPa</th>\n",
              "      <th>Weather</th>\n",
              "    </tr>\n",
              "  </thead>\n",
              "  <tbody>\n",
              "    <tr>\n",
              "      <th>0</th>\n",
              "      <td>1/1/2012 0:00</td>\n",
              "      <td>-1.8</td>\n",
              "      <td>-3.9</td>\n",
              "      <td>86</td>\n",
              "      <td>4</td>\n",
              "      <td>8.0</td>\n",
              "      <td>101.24</td>\n",
              "      <td>Fog</td>\n",
              "    </tr>\n",
              "    <tr>\n",
              "      <th>1</th>\n",
              "      <td>1/1/2012 1:00</td>\n",
              "      <td>-1.8</td>\n",
              "      <td>-3.7</td>\n",
              "      <td>87</td>\n",
              "      <td>4</td>\n",
              "      <td>8.0</td>\n",
              "      <td>101.24</td>\n",
              "      <td>Fog</td>\n",
              "    </tr>\n",
              "    <tr>\n",
              "      <th>2</th>\n",
              "      <td>1/1/2012 2:00</td>\n",
              "      <td>-1.8</td>\n",
              "      <td>-3.4</td>\n",
              "      <td>89</td>\n",
              "      <td>7</td>\n",
              "      <td>4.0</td>\n",
              "      <td>101.26</td>\n",
              "      <td>Freezing Drizzle,Fog</td>\n",
              "    </tr>\n",
              "    <tr>\n",
              "      <th>3</th>\n",
              "      <td>1/1/2012 3:00</td>\n",
              "      <td>-1.5</td>\n",
              "      <td>-3.2</td>\n",
              "      <td>88</td>\n",
              "      <td>6</td>\n",
              "      <td>4.0</td>\n",
              "      <td>101.27</td>\n",
              "      <td>Freezing Drizzle,Fog</td>\n",
              "    </tr>\n",
              "    <tr>\n",
              "      <th>4</th>\n",
              "      <td>1/1/2012 4:00</td>\n",
              "      <td>-1.5</td>\n",
              "      <td>-3.3</td>\n",
              "      <td>88</td>\n",
              "      <td>7</td>\n",
              "      <td>4.8</td>\n",
              "      <td>101.23</td>\n",
              "      <td>Fog</td>\n",
              "    </tr>\n",
              "    <tr>\n",
              "      <th>...</th>\n",
              "      <td>...</td>\n",
              "      <td>...</td>\n",
              "      <td>...</td>\n",
              "      <td>...</td>\n",
              "      <td>...</td>\n",
              "      <td>...</td>\n",
              "      <td>...</td>\n",
              "      <td>...</td>\n",
              "    </tr>\n",
              "    <tr>\n",
              "      <th>8779</th>\n",
              "      <td>12/31/2012 19:00</td>\n",
              "      <td>0.1</td>\n",
              "      <td>-2.7</td>\n",
              "      <td>81</td>\n",
              "      <td>30</td>\n",
              "      <td>9.7</td>\n",
              "      <td>100.13</td>\n",
              "      <td>Snow</td>\n",
              "    </tr>\n",
              "    <tr>\n",
              "      <th>8780</th>\n",
              "      <td>12/31/2012 20:00</td>\n",
              "      <td>0.2</td>\n",
              "      <td>-2.4</td>\n",
              "      <td>83</td>\n",
              "      <td>24</td>\n",
              "      <td>9.7</td>\n",
              "      <td>100.03</td>\n",
              "      <td>Snow</td>\n",
              "    </tr>\n",
              "    <tr>\n",
              "      <th>8781</th>\n",
              "      <td>12/31/2012 21:00</td>\n",
              "      <td>-0.5</td>\n",
              "      <td>-1.5</td>\n",
              "      <td>93</td>\n",
              "      <td>28</td>\n",
              "      <td>4.8</td>\n",
              "      <td>99.95</td>\n",
              "      <td>Snow</td>\n",
              "    </tr>\n",
              "    <tr>\n",
              "      <th>8782</th>\n",
              "      <td>12/31/2012 22:00</td>\n",
              "      <td>-0.2</td>\n",
              "      <td>-1.8</td>\n",
              "      <td>89</td>\n",
              "      <td>28</td>\n",
              "      <td>9.7</td>\n",
              "      <td>99.91</td>\n",
              "      <td>Snow</td>\n",
              "    </tr>\n",
              "    <tr>\n",
              "      <th>8783</th>\n",
              "      <td>12/31/2012 23:00</td>\n",
              "      <td>0.0</td>\n",
              "      <td>-2.1</td>\n",
              "      <td>86</td>\n",
              "      <td>30</td>\n",
              "      <td>11.3</td>\n",
              "      <td>99.89</td>\n",
              "      <td>Snow</td>\n",
              "    </tr>\n",
              "  </tbody>\n",
              "</table>\n",
              "<p>8784 rows × 8 columns</p>\n",
              "</div>"
            ],
            "text/plain": [
              "             Date/Time  Temp_C  ...  Press_kPa               Weather\n",
              "0        1/1/2012 0:00    -1.8  ...     101.24                   Fog\n",
              "1        1/1/2012 1:00    -1.8  ...     101.24                   Fog\n",
              "2        1/1/2012 2:00    -1.8  ...     101.26  Freezing Drizzle,Fog\n",
              "3        1/1/2012 3:00    -1.5  ...     101.27  Freezing Drizzle,Fog\n",
              "4        1/1/2012 4:00    -1.5  ...     101.23                   Fog\n",
              "...                ...     ...  ...        ...                   ...\n",
              "8779  12/31/2012 19:00     0.1  ...     100.13                  Snow\n",
              "8780  12/31/2012 20:00     0.2  ...     100.03                  Snow\n",
              "8781  12/31/2012 21:00    -0.5  ...      99.95                  Snow\n",
              "8782  12/31/2012 22:00    -0.2  ...      99.91                  Snow\n",
              "8783  12/31/2012 23:00     0.0  ...      99.89                  Snow\n",
              "\n",
              "[8784 rows x 8 columns]"
            ]
          },
          "metadata": {
            "tags": []
          },
          "execution_count": 19
        }
      ]
    },
    {
      "cell_type": "markdown",
      "metadata": {
        "id": "oPSRjUEooPnB"
      },
      "source": [
        "**Analysing Data Frames**"
      ]
    },
    {
      "cell_type": "markdown",
      "metadata": {
        "id": "-ekHAwQDqZxQ"
      },
      "source": [
        "*.head() - it shows the first N rows in the data*"
      ]
    },
    {
      "cell_type": "code",
      "metadata": {
        "colab": {
          "base_uri": "https://localhost:8080/",
          "height": 343
        },
        "id": "wnhRftsmn9l-",
        "outputId": "dc5388b3-c57a-4a78-bfcd-f4b32842dbda"
      },
      "source": [
        "data.head()"
      ],
      "execution_count": 20,
      "outputs": [
        {
          "output_type": "execute_result",
          "data": {
            "text/html": [
              "<div>\n",
              "<style scoped>\n",
              "    .dataframe tbody tr th:only-of-type {\n",
              "        vertical-align: middle;\n",
              "    }\n",
              "\n",
              "    .dataframe tbody tr th {\n",
              "        vertical-align: top;\n",
              "    }\n",
              "\n",
              "    .dataframe thead th {\n",
              "        text-align: right;\n",
              "    }\n",
              "</style>\n",
              "<table border=\"1\" class=\"dataframe\">\n",
              "  <thead>\n",
              "    <tr style=\"text-align: right;\">\n",
              "      <th></th>\n",
              "      <th>Date/Time</th>\n",
              "      <th>Temp_C</th>\n",
              "      <th>Dew Point Temp_C</th>\n",
              "      <th>Rel Hum_%</th>\n",
              "      <th>Wind Speed_km/h</th>\n",
              "      <th>Visibility_km</th>\n",
              "      <th>Press_kPa</th>\n",
              "      <th>Weather</th>\n",
              "    </tr>\n",
              "  </thead>\n",
              "  <tbody>\n",
              "    <tr>\n",
              "      <th>0</th>\n",
              "      <td>1/1/2012 0:00</td>\n",
              "      <td>-1.8</td>\n",
              "      <td>-3.9</td>\n",
              "      <td>86</td>\n",
              "      <td>4</td>\n",
              "      <td>8.0</td>\n",
              "      <td>101.24</td>\n",
              "      <td>Fog</td>\n",
              "    </tr>\n",
              "    <tr>\n",
              "      <th>1</th>\n",
              "      <td>1/1/2012 1:00</td>\n",
              "      <td>-1.8</td>\n",
              "      <td>-3.7</td>\n",
              "      <td>87</td>\n",
              "      <td>4</td>\n",
              "      <td>8.0</td>\n",
              "      <td>101.24</td>\n",
              "      <td>Fog</td>\n",
              "    </tr>\n",
              "    <tr>\n",
              "      <th>2</th>\n",
              "      <td>1/1/2012 2:00</td>\n",
              "      <td>-1.8</td>\n",
              "      <td>-3.4</td>\n",
              "      <td>89</td>\n",
              "      <td>7</td>\n",
              "      <td>4.0</td>\n",
              "      <td>101.26</td>\n",
              "      <td>Freezing Drizzle,Fog</td>\n",
              "    </tr>\n",
              "    <tr>\n",
              "      <th>3</th>\n",
              "      <td>1/1/2012 3:00</td>\n",
              "      <td>-1.5</td>\n",
              "      <td>-3.2</td>\n",
              "      <td>88</td>\n",
              "      <td>6</td>\n",
              "      <td>4.0</td>\n",
              "      <td>101.27</td>\n",
              "      <td>Freezing Drizzle,Fog</td>\n",
              "    </tr>\n",
              "    <tr>\n",
              "      <th>4</th>\n",
              "      <td>1/1/2012 4:00</td>\n",
              "      <td>-1.5</td>\n",
              "      <td>-3.3</td>\n",
              "      <td>88</td>\n",
              "      <td>7</td>\n",
              "      <td>4.8</td>\n",
              "      <td>101.23</td>\n",
              "      <td>Fog</td>\n",
              "    </tr>\n",
              "  </tbody>\n",
              "</table>\n",
              "</div>"
            ],
            "text/plain": [
              "       Date/Time  Temp_C  ...  Press_kPa               Weather\n",
              "0  1/1/2012 0:00    -1.8  ...     101.24                   Fog\n",
              "1  1/1/2012 1:00    -1.8  ...     101.24                   Fog\n",
              "2  1/1/2012 2:00    -1.8  ...     101.26  Freezing Drizzle,Fog\n",
              "3  1/1/2012 3:00    -1.5  ...     101.27  Freezing Drizzle,Fog\n",
              "4  1/1/2012 4:00    -1.5  ...     101.23                   Fog\n",
              "\n",
              "[5 rows x 8 columns]"
            ]
          },
          "metadata": {
            "tags": []
          },
          "execution_count": 20
        }
      ]
    },
    {
      "cell_type": "markdown",
      "metadata": {
        "id": "MATy1g21qmL-"
      },
      "source": [
        "***.shape - it shows the total no of rows and no of columns of the dataframe***"
      ]
    },
    {
      "cell_type": "code",
      "metadata": {
        "colab": {
          "base_uri": "https://localhost:8080/"
        },
        "id": "E7NbuRVSpuwk",
        "outputId": "0219269e-a8bc-4aa9-d733-fe99cd316945"
      },
      "source": [
        "data.shape"
      ],
      "execution_count": 21,
      "outputs": [
        {
          "output_type": "execute_result",
          "data": {
            "text/plain": [
              "(8784, 8)"
            ]
          },
          "metadata": {
            "tags": []
          },
          "execution_count": 21
        }
      ]
    },
    {
      "cell_type": "markdown",
      "metadata": {
        "id": "3FQgt81vqwf6"
      },
      "source": [
        "***.index - this attribute provides the index of the dataframe***"
      ]
    },
    {
      "cell_type": "code",
      "metadata": {
        "colab": {
          "base_uri": "https://localhost:8080/"
        },
        "id": "6-qs1qHfp4Md",
        "outputId": "c9f75ee1-7a08-4e5b-bd6c-714b460c4599"
      },
      "source": [
        "data.index"
      ],
      "execution_count": 22,
      "outputs": [
        {
          "output_type": "execute_result",
          "data": {
            "text/plain": [
              "RangeIndex(start=0, stop=8784, step=1)"
            ]
          },
          "metadata": {
            "tags": []
          },
          "execution_count": 22
        }
      ]
    },
    {
      "cell_type": "markdown",
      "metadata": {
        "id": "x7lrt5Zbq_Ws"
      },
      "source": [
        "***.columns - it shows the name of each column***"
      ]
    },
    {
      "cell_type": "code",
      "metadata": {
        "colab": {
          "base_uri": "https://localhost:8080/"
        },
        "id": "YnBJowz9qA3k",
        "outputId": "d36498a9-28f9-46c5-ae07-02b9455e077a"
      },
      "source": [
        "data.columns"
      ],
      "execution_count": 23,
      "outputs": [
        {
          "output_type": "execute_result",
          "data": {
            "text/plain": [
              "Index(['Date/Time', 'Temp_C', 'Dew Point Temp_C', 'Rel Hum_%',\n",
              "       'Wind Speed_km/h', 'Visibility_km', 'Press_kPa', 'Weather'],\n",
              "      dtype='object')"
            ]
          },
          "metadata": {
            "tags": []
          },
          "execution_count": 23
        }
      ]
    },
    {
      "cell_type": "markdown",
      "metadata": {
        "id": "lY4ZlWJerKg3"
      },
      "source": [
        "***.dtypes - it shows the data type of each column***"
      ]
    },
    {
      "cell_type": "code",
      "metadata": {
        "colab": {
          "base_uri": "https://localhost:8080/"
        },
        "id": "dFO5q5SoqG7J",
        "outputId": "b71d890b-6b7b-4b23-fd64-390cd3716b39"
      },
      "source": [
        "data.dtypes"
      ],
      "execution_count": 24,
      "outputs": [
        {
          "output_type": "execute_result",
          "data": {
            "text/plain": [
              "Date/Time            object\n",
              "Temp_C              float64\n",
              "Dew Point Temp_C    float64\n",
              "Rel Hum_%             int64\n",
              "Wind Speed_km/h       int64\n",
              "Visibility_km       float64\n",
              "Press_kPa           float64\n",
              "Weather              object\n",
              "dtype: object"
            ]
          },
          "metadata": {
            "tags": []
          },
          "execution_count": 24
        }
      ]
    },
    {
      "cell_type": "markdown",
      "metadata": {
        "id": "oRhtUJ6krVKW"
      },
      "source": [
        "***.unique()***\n",
        "\n",
        "in a column , it shows all the unique values , it can be applied on a single column only ( not on the whole data frame )"
      ]
    },
    {
      "cell_type": "code",
      "metadata": {
        "colab": {
          "base_uri": "https://localhost:8080/"
        },
        "id": "T0RIGFMqqTss",
        "outputId": "cd4f22d6-bb2e-41d0-f6a4-18766c8bf79f"
      },
      "source": [
        "data['Weather'].unique()"
      ],
      "execution_count": 27,
      "outputs": [
        {
          "output_type": "execute_result",
          "data": {
            "text/plain": [
              "array(['Fog', 'Freezing Drizzle,Fog', 'Mostly Cloudy', 'Cloudy', 'Rain',\n",
              "       'Rain Showers', 'Mainly Clear', 'Snow Showers', 'Snow', 'Clear',\n",
              "       'Freezing Rain,Fog', 'Freezing Rain', 'Freezing Drizzle',\n",
              "       'Rain,Snow', 'Moderate Snow', 'Freezing Drizzle,Snow',\n",
              "       'Freezing Rain,Snow Grains', 'Snow,Blowing Snow', 'Freezing Fog',\n",
              "       'Haze', 'Rain,Fog', 'Drizzle,Fog', 'Drizzle',\n",
              "       'Freezing Drizzle,Haze', 'Freezing Rain,Haze', 'Snow,Haze',\n",
              "       'Snow,Fog', 'Snow,Ice Pellets', 'Rain,Haze', 'Thunderstorms,Rain',\n",
              "       'Thunderstorms,Rain Showers', 'Thunderstorms,Heavy Rain Showers',\n",
              "       'Thunderstorms,Rain Showers,Fog', 'Thunderstorms',\n",
              "       'Thunderstorms,Rain,Fog',\n",
              "       'Thunderstorms,Moderate Rain Showers,Fog', 'Rain Showers,Fog',\n",
              "       'Rain Showers,Snow Showers', 'Snow Pellets', 'Rain,Snow,Fog',\n",
              "       'Moderate Rain,Fog', 'Freezing Rain,Ice Pellets,Fog',\n",
              "       'Drizzle,Ice Pellets,Fog', 'Drizzle,Snow', 'Rain,Ice Pellets',\n",
              "       'Drizzle,Snow,Fog', 'Rain,Snow Grains', 'Rain,Snow,Ice Pellets',\n",
              "       'Snow Showers,Fog', 'Moderate Snow,Blowing Snow'], dtype=object)"
            ]
          },
          "metadata": {
            "tags": []
          },
          "execution_count": 27
        }
      ]
    },
    {
      "cell_type": "markdown",
      "metadata": {
        "id": "FYob_nf5sIbq"
      },
      "source": [
        "***.nunique()*** \n",
        "\n",
        "it shows the total no of unique values in each column , it can be applied on a single column as well as on whole dataframe"
      ]
    },
    {
      "cell_type": "code",
      "metadata": {
        "colab": {
          "base_uri": "https://localhost:8080/"
        },
        "id": "HBjWaX3Rrt-D",
        "outputId": "811eeca8-265d-46e0-fba9-d880c668e291"
      },
      "source": [
        "data.nunique()"
      ],
      "execution_count": 28,
      "outputs": [
        {
          "output_type": "execute_result",
          "data": {
            "text/plain": [
              "Date/Time           8784\n",
              "Temp_C               533\n",
              "Dew Point Temp_C     489\n",
              "Rel Hum_%             83\n",
              "Wind Speed_km/h       34\n",
              "Visibility_km         24\n",
              "Press_kPa            518\n",
              "Weather               50\n",
              "dtype: int64"
            ]
          },
          "metadata": {
            "tags": []
          },
          "execution_count": 28
        }
      ]
    },
    {
      "cell_type": "markdown",
      "metadata": {
        "id": "eCM9ypP6ua09"
      },
      "source": [
        "**.count**\n",
        "\n",
        "it shows the total no of non - null in each column , it can be applied on a single column as well as on whole dataframe\n",
        "\n"
      ]
    },
    {
      "cell_type": "code",
      "metadata": {
        "colab": {
          "base_uri": "https://localhost:8080/"
        },
        "id": "fcusxHDHuZC7",
        "outputId": "266287a1-6724-401a-d760-13a933a154db"
      },
      "source": [
        "data.count()"
      ],
      "execution_count": 29,
      "outputs": [
        {
          "output_type": "execute_result",
          "data": {
            "text/plain": [
              "Date/Time           8784\n",
              "Temp_C              8784\n",
              "Dew Point Temp_C    8784\n",
              "Rel Hum_%           8784\n",
              "Wind Speed_km/h     8784\n",
              "Visibility_km       8784\n",
              "Press_kPa           8784\n",
              "Weather             8784\n",
              "dtype: int64"
            ]
          },
          "metadata": {
            "tags": []
          },
          "execution_count": 29
        }
      ]
    },
    {
      "cell_type": "markdown",
      "metadata": {
        "id": "H78JZCVNvLKs"
      },
      "source": [
        "**.value_counts**\n",
        "\n",
        "in a column , it shows all the unique values with their count , it can be appliead on a single column only "
      ]
    },
    {
      "cell_type": "code",
      "metadata": {
        "colab": {
          "base_uri": "https://localhost:8080/"
        },
        "id": "E7PRqHpIvJe1",
        "outputId": "e3fad41d-152c-4b1c-f256-b1d0d9504ef4"
      },
      "source": [
        "data['Weather'].value_counts()"
      ],
      "execution_count": 32,
      "outputs": [
        {
          "output_type": "execute_result",
          "data": {
            "text/plain": [
              "Mainly Clear                               2106\n",
              "Mostly Cloudy                              2069\n",
              "Cloudy                                     1728\n",
              "Clear                                      1326\n",
              "Snow                                        390\n",
              "Rain                                        306\n",
              "Rain Showers                                188\n",
              "Fog                                         150\n",
              "Rain,Fog                                    116\n",
              "Drizzle,Fog                                  80\n",
              "Snow Showers                                 60\n",
              "Drizzle                                      41\n",
              "Snow,Fog                                     37\n",
              "Snow,Blowing Snow                            19\n",
              "Rain,Snow                                    18\n",
              "Haze                                         16\n",
              "Thunderstorms,Rain Showers                   16\n",
              "Drizzle,Snow,Fog                             15\n",
              "Freezing Rain                                14\n",
              "Freezing Drizzle,Snow                        11\n",
              "Freezing Drizzle                              7\n",
              "Freezing Drizzle,Fog                          6\n",
              "Snow,Ice Pellets                              6\n",
              "Snow,Haze                                     5\n",
              "Snow Showers,Fog                              4\n",
              "Rain,Snow,Ice Pellets                         4\n",
              "Freezing Rain,Fog                             4\n",
              "Freezing Fog                                  4\n",
              "Moderate Snow                                 4\n",
              "Freezing Drizzle,Haze                         3\n",
              "Thunderstorms,Rain Showers,Fog                3\n",
              "Rain,Haze                                     3\n",
              "Thunderstorms,Rain                            3\n",
              "Moderate Snow,Blowing Snow                    2\n",
              "Rain Showers,Snow Showers                     2\n",
              "Drizzle,Snow                                  2\n",
              "Thunderstorms                                 2\n",
              "Freezing Rain,Haze                            2\n",
              "Snow Pellets                                  1\n",
              "Thunderstorms,Moderate Rain Showers,Fog       1\n",
              "Thunderstorms,Heavy Rain Showers              1\n",
              "Freezing Rain,Ice Pellets,Fog                 1\n",
              "Drizzle,Ice Pellets,Fog                       1\n",
              "Rain Showers,Fog                              1\n",
              "Thunderstorms,Rain,Fog                        1\n",
              "Rain,Snow,Fog                                 1\n",
              "Rain,Ice Pellets                              1\n",
              "Moderate Rain,Fog                             1\n",
              "Freezing Rain,Snow Grains                     1\n",
              "Rain,Snow Grains                              1\n",
              "Name: Weather, dtype: int64"
            ]
          },
          "metadata": {
            "tags": []
          },
          "execution_count": 32
        }
      ]
    },
    {
      "cell_type": "markdown",
      "metadata": {
        "id": "a8W_mKOWwfrY"
      },
      "source": [
        "**.info()**\n",
        "\n",
        "provides basic info about the data frame"
      ]
    },
    {
      "cell_type": "code",
      "metadata": {
        "colab": {
          "base_uri": "https://localhost:8080/"
        },
        "id": "OxBpFY6_wF6F",
        "outputId": "59888df3-256f-4d32-8b38-78969ee8749a"
      },
      "source": [
        "data.info()"
      ],
      "execution_count": 33,
      "outputs": [
        {
          "output_type": "stream",
          "text": [
            "<class 'pandas.core.frame.DataFrame'>\n",
            "RangeIndex: 8784 entries, 0 to 8783\n",
            "Data columns (total 8 columns):\n",
            " #   Column            Non-Null Count  Dtype  \n",
            "---  ------            --------------  -----  \n",
            " 0   Date/Time         8784 non-null   object \n",
            " 1   Temp_C            8784 non-null   float64\n",
            " 2   Dew Point Temp_C  8784 non-null   float64\n",
            " 3   Rel Hum_%         8784 non-null   int64  \n",
            " 4   Wind Speed_km/h   8784 non-null   int64  \n",
            " 5   Visibility_km     8784 non-null   float64\n",
            " 6   Press_kPa         8784 non-null   float64\n",
            " 7   Weather           8784 non-null   object \n",
            "dtypes: float64(4), int64(2), object(2)\n",
            "memory usage: 549.1+ KB\n"
          ],
          "name": "stdout"
        }
      ]
    },
    {
      "cell_type": "markdown",
      "metadata": {
        "id": "Q0zAyQK5wvvi"
      },
      "source": [
        "### **Finding the unique wind speed values in data**"
      ]
    },
    {
      "cell_type": "code",
      "metadata": {
        "colab": {
          "base_uri": "https://localhost:8080/",
          "height": 199
        },
        "id": "O67nl5hYwn6i",
        "outputId": "b26141f7-e213-4847-bc7a-203ccace0d83"
      },
      "source": [
        "data.head(2)"
      ],
      "execution_count": 34,
      "outputs": [
        {
          "output_type": "execute_result",
          "data": {
            "text/html": [
              "<div>\n",
              "<style scoped>\n",
              "    .dataframe tbody tr th:only-of-type {\n",
              "        vertical-align: middle;\n",
              "    }\n",
              "\n",
              "    .dataframe tbody tr th {\n",
              "        vertical-align: top;\n",
              "    }\n",
              "\n",
              "    .dataframe thead th {\n",
              "        text-align: right;\n",
              "    }\n",
              "</style>\n",
              "<table border=\"1\" class=\"dataframe\">\n",
              "  <thead>\n",
              "    <tr style=\"text-align: right;\">\n",
              "      <th></th>\n",
              "      <th>Date/Time</th>\n",
              "      <th>Temp_C</th>\n",
              "      <th>Dew Point Temp_C</th>\n",
              "      <th>Rel Hum_%</th>\n",
              "      <th>Wind Speed_km/h</th>\n",
              "      <th>Visibility_km</th>\n",
              "      <th>Press_kPa</th>\n",
              "      <th>Weather</th>\n",
              "    </tr>\n",
              "  </thead>\n",
              "  <tbody>\n",
              "    <tr>\n",
              "      <th>0</th>\n",
              "      <td>1/1/2012 0:00</td>\n",
              "      <td>-1.8</td>\n",
              "      <td>-3.9</td>\n",
              "      <td>86</td>\n",
              "      <td>4</td>\n",
              "      <td>8.0</td>\n",
              "      <td>101.24</td>\n",
              "      <td>Fog</td>\n",
              "    </tr>\n",
              "    <tr>\n",
              "      <th>1</th>\n",
              "      <td>1/1/2012 1:00</td>\n",
              "      <td>-1.8</td>\n",
              "      <td>-3.7</td>\n",
              "      <td>87</td>\n",
              "      <td>4</td>\n",
              "      <td>8.0</td>\n",
              "      <td>101.24</td>\n",
              "      <td>Fog</td>\n",
              "    </tr>\n",
              "  </tbody>\n",
              "</table>\n",
              "</div>"
            ],
            "text/plain": [
              "       Date/Time  Temp_C  Dew Point Temp_C  ...  Visibility_km  Press_kPa  Weather\n",
              "0  1/1/2012 0:00    -1.8              -3.9  ...            8.0     101.24      Fog\n",
              "1  1/1/2012 1:00    -1.8              -3.7  ...            8.0     101.24      Fog\n",
              "\n",
              "[2 rows x 8 columns]"
            ]
          },
          "metadata": {
            "tags": []
          },
          "execution_count": 34
        }
      ]
    },
    {
      "cell_type": "code",
      "metadata": {
        "colab": {
          "base_uri": "https://localhost:8080/"
        },
        "id": "z2FCvZhCw_mJ",
        "outputId": "de6016b3-83cb-496c-9c92-d69e07f7239f"
      },
      "source": [
        "data.nunique()"
      ],
      "execution_count": 35,
      "outputs": [
        {
          "output_type": "execute_result",
          "data": {
            "text/plain": [
              "Date/Time           8784\n",
              "Temp_C               533\n",
              "Dew Point Temp_C     489\n",
              "Rel Hum_%             83\n",
              "Wind Speed_km/h       34\n",
              "Visibility_km         24\n",
              "Press_kPa            518\n",
              "Weather               50\n",
              "dtype: int64"
            ]
          },
          "metadata": {
            "tags": []
          },
          "execution_count": 35
        }
      ]
    },
    {
      "cell_type": "code",
      "metadata": {
        "colab": {
          "base_uri": "https://localhost:8080/"
        },
        "id": "yS4-qpCkxHwt",
        "outputId": "0b950ebb-e179-4756-df1c-21962d43ab74"
      },
      "source": [
        "data['Wind Speed_km/h'].nunique()"
      ],
      "execution_count": 36,
      "outputs": [
        {
          "output_type": "execute_result",
          "data": {
            "text/plain": [
              "34"
            ]
          },
          "metadata": {
            "tags": []
          },
          "execution_count": 36
        }
      ]
    },
    {
      "cell_type": "code",
      "metadata": {
        "colab": {
          "base_uri": "https://localhost:8080/"
        },
        "id": "vlWSWL8pxSbd",
        "outputId": "59210a7c-fc8b-4a59-9918-018fdcbcd8b6"
      },
      "source": [
        "data['Wind Speed_km/h'].unique() #answer"
      ],
      "execution_count": 40,
      "outputs": [
        {
          "output_type": "execute_result",
          "data": {
            "text/plain": [
              "array([ 4,  7,  6,  9, 15, 13, 20, 22, 19, 24, 30, 35, 39, 32, 33, 26, 44,\n",
              "       43, 48, 37, 28, 17, 11,  0, 83, 70, 57, 46, 41, 52, 50, 63, 54,  2])"
            ]
          },
          "metadata": {
            "tags": []
          },
          "execution_count": 40
        }
      ]
    },
    {
      "cell_type": "markdown",
      "metadata": {
        "id": "5mFkoP9sxspr"
      },
      "source": [
        "### **Finding the times , weather is exactly clear**"
      ]
    },
    {
      "cell_type": "code",
      "metadata": {
        "colab": {
          "base_uri": "https://localhost:8080/",
          "height": 199
        },
        "id": "ZwxotDZWxb24",
        "outputId": "617f994d-5cb5-45b1-dfd3-4446dc500828"
      },
      "source": [
        "data.head(2)"
      ],
      "execution_count": 41,
      "outputs": [
        {
          "output_type": "execute_result",
          "data": {
            "text/html": [
              "<div>\n",
              "<style scoped>\n",
              "    .dataframe tbody tr th:only-of-type {\n",
              "        vertical-align: middle;\n",
              "    }\n",
              "\n",
              "    .dataframe tbody tr th {\n",
              "        vertical-align: top;\n",
              "    }\n",
              "\n",
              "    .dataframe thead th {\n",
              "        text-align: right;\n",
              "    }\n",
              "</style>\n",
              "<table border=\"1\" class=\"dataframe\">\n",
              "  <thead>\n",
              "    <tr style=\"text-align: right;\">\n",
              "      <th></th>\n",
              "      <th>Date/Time</th>\n",
              "      <th>Temp_C</th>\n",
              "      <th>Dew Point Temp_C</th>\n",
              "      <th>Rel Hum_%</th>\n",
              "      <th>Wind Speed_km/h</th>\n",
              "      <th>Visibility_km</th>\n",
              "      <th>Press_kPa</th>\n",
              "      <th>Weather</th>\n",
              "    </tr>\n",
              "  </thead>\n",
              "  <tbody>\n",
              "    <tr>\n",
              "      <th>0</th>\n",
              "      <td>1/1/2012 0:00</td>\n",
              "      <td>-1.8</td>\n",
              "      <td>-3.9</td>\n",
              "      <td>86</td>\n",
              "      <td>4</td>\n",
              "      <td>8.0</td>\n",
              "      <td>101.24</td>\n",
              "      <td>Fog</td>\n",
              "    </tr>\n",
              "    <tr>\n",
              "      <th>1</th>\n",
              "      <td>1/1/2012 1:00</td>\n",
              "      <td>-1.8</td>\n",
              "      <td>-3.7</td>\n",
              "      <td>87</td>\n",
              "      <td>4</td>\n",
              "      <td>8.0</td>\n",
              "      <td>101.24</td>\n",
              "      <td>Fog</td>\n",
              "    </tr>\n",
              "  </tbody>\n",
              "</table>\n",
              "</div>"
            ],
            "text/plain": [
              "       Date/Time  Temp_C  Dew Point Temp_C  ...  Visibility_km  Press_kPa  Weather\n",
              "0  1/1/2012 0:00    -1.8              -3.9  ...            8.0     101.24      Fog\n",
              "1  1/1/2012 1:00    -1.8              -3.7  ...            8.0     101.24      Fog\n",
              "\n",
              "[2 rows x 8 columns]"
            ]
          },
          "metadata": {
            "tags": []
          },
          "execution_count": 41
        }
      ]
    },
    {
      "cell_type": "code",
      "metadata": {
        "colab": {
          "base_uri": "https://localhost:8080/"
        },
        "id": "gbAMEBGDx4aL",
        "outputId": "3ec30bc5-1cc4-49ce-8c69-5ff2da8bfde2"
      },
      "source": [
        "# value.counts()\n",
        "data.Weather.value_counts()\n"
      ],
      "execution_count": 42,
      "outputs": [
        {
          "output_type": "execute_result",
          "data": {
            "text/plain": [
              "Mainly Clear                               2106\n",
              "Mostly Cloudy                              2069\n",
              "Cloudy                                     1728\n",
              "Clear                                      1326\n",
              "Snow                                        390\n",
              "Rain                                        306\n",
              "Rain Showers                                188\n",
              "Fog                                         150\n",
              "Rain,Fog                                    116\n",
              "Drizzle,Fog                                  80\n",
              "Snow Showers                                 60\n",
              "Drizzle                                      41\n",
              "Snow,Fog                                     37\n",
              "Snow,Blowing Snow                            19\n",
              "Rain,Snow                                    18\n",
              "Haze                                         16\n",
              "Thunderstorms,Rain Showers                   16\n",
              "Drizzle,Snow,Fog                             15\n",
              "Freezing Rain                                14\n",
              "Freezing Drizzle,Snow                        11\n",
              "Freezing Drizzle                              7\n",
              "Freezing Drizzle,Fog                          6\n",
              "Snow,Ice Pellets                              6\n",
              "Snow,Haze                                     5\n",
              "Snow Showers,Fog                              4\n",
              "Rain,Snow,Ice Pellets                         4\n",
              "Freezing Rain,Fog                             4\n",
              "Freezing Fog                                  4\n",
              "Moderate Snow                                 4\n",
              "Freezing Drizzle,Haze                         3\n",
              "Thunderstorms,Rain Showers,Fog                3\n",
              "Rain,Haze                                     3\n",
              "Thunderstorms,Rain                            3\n",
              "Moderate Snow,Blowing Snow                    2\n",
              "Rain Showers,Snow Showers                     2\n",
              "Drizzle,Snow                                  2\n",
              "Thunderstorms                                 2\n",
              "Freezing Rain,Haze                            2\n",
              "Snow Pellets                                  1\n",
              "Thunderstorms,Moderate Rain Showers,Fog       1\n",
              "Thunderstorms,Heavy Rain Showers              1\n",
              "Freezing Rain,Ice Pellets,Fog                 1\n",
              "Drizzle,Ice Pellets,Fog                       1\n",
              "Rain Showers,Fog                              1\n",
              "Thunderstorms,Rain,Fog                        1\n",
              "Rain,Snow,Fog                                 1\n",
              "Rain,Ice Pellets                              1\n",
              "Moderate Rain,Fog                             1\n",
              "Freezing Rain,Snow Grains                     1\n",
              "Rain,Snow Grains                              1\n",
              "Name: Weather, dtype: int64"
            ]
          },
          "metadata": {
            "tags": []
          },
          "execution_count": 42
        }
      ]
    },
    {
      "cell_type": "code",
      "metadata": {
        "colab": {
          "base_uri": "https://localhost:8080/",
          "height": 643
        },
        "id": "GTYIjJJMyCp2",
        "outputId": "8a095716-e6fc-42e3-a1bc-1739b717cc4d"
      },
      "source": [
        "#filtering\n",
        "#data.head(2)\n",
        "data[data.Weather == 'Clear']"
      ],
      "execution_count": 45,
      "outputs": [
        {
          "output_type": "execute_result",
          "data": {
            "text/html": [
              "<div>\n",
              "<style scoped>\n",
              "    .dataframe tbody tr th:only-of-type {\n",
              "        vertical-align: middle;\n",
              "    }\n",
              "\n",
              "    .dataframe tbody tr th {\n",
              "        vertical-align: top;\n",
              "    }\n",
              "\n",
              "    .dataframe thead th {\n",
              "        text-align: right;\n",
              "    }\n",
              "</style>\n",
              "<table border=\"1\" class=\"dataframe\">\n",
              "  <thead>\n",
              "    <tr style=\"text-align: right;\">\n",
              "      <th></th>\n",
              "      <th>Date/Time</th>\n",
              "      <th>Temp_C</th>\n",
              "      <th>Dew Point Temp_C</th>\n",
              "      <th>Rel Hum_%</th>\n",
              "      <th>Wind Speed_km/h</th>\n",
              "      <th>Visibility_km</th>\n",
              "      <th>Press_kPa</th>\n",
              "      <th>Weather</th>\n",
              "    </tr>\n",
              "  </thead>\n",
              "  <tbody>\n",
              "    <tr>\n",
              "      <th>67</th>\n",
              "      <td>1/3/2012 19:00</td>\n",
              "      <td>-16.9</td>\n",
              "      <td>-24.8</td>\n",
              "      <td>50</td>\n",
              "      <td>24</td>\n",
              "      <td>25.0</td>\n",
              "      <td>101.74</td>\n",
              "      <td>Clear</td>\n",
              "    </tr>\n",
              "    <tr>\n",
              "      <th>114</th>\n",
              "      <td>1/5/2012 18:00</td>\n",
              "      <td>-7.1</td>\n",
              "      <td>-14.4</td>\n",
              "      <td>56</td>\n",
              "      <td>11</td>\n",
              "      <td>25.0</td>\n",
              "      <td>100.71</td>\n",
              "      <td>Clear</td>\n",
              "    </tr>\n",
              "    <tr>\n",
              "      <th>115</th>\n",
              "      <td>1/5/2012 19:00</td>\n",
              "      <td>-9.2</td>\n",
              "      <td>-15.4</td>\n",
              "      <td>61</td>\n",
              "      <td>7</td>\n",
              "      <td>25.0</td>\n",
              "      <td>100.80</td>\n",
              "      <td>Clear</td>\n",
              "    </tr>\n",
              "    <tr>\n",
              "      <th>116</th>\n",
              "      <td>1/5/2012 20:00</td>\n",
              "      <td>-9.8</td>\n",
              "      <td>-15.7</td>\n",
              "      <td>62</td>\n",
              "      <td>9</td>\n",
              "      <td>25.0</td>\n",
              "      <td>100.83</td>\n",
              "      <td>Clear</td>\n",
              "    </tr>\n",
              "    <tr>\n",
              "      <th>117</th>\n",
              "      <td>1/5/2012 21:00</td>\n",
              "      <td>-9.0</td>\n",
              "      <td>-14.8</td>\n",
              "      <td>63</td>\n",
              "      <td>13</td>\n",
              "      <td>25.0</td>\n",
              "      <td>100.83</td>\n",
              "      <td>Clear</td>\n",
              "    </tr>\n",
              "    <tr>\n",
              "      <th>...</th>\n",
              "      <td>...</td>\n",
              "      <td>...</td>\n",
              "      <td>...</td>\n",
              "      <td>...</td>\n",
              "      <td>...</td>\n",
              "      <td>...</td>\n",
              "      <td>...</td>\n",
              "      <td>...</td>\n",
              "    </tr>\n",
              "    <tr>\n",
              "      <th>8646</th>\n",
              "      <td>12/26/2012 6:00</td>\n",
              "      <td>-13.4</td>\n",
              "      <td>-14.8</td>\n",
              "      <td>89</td>\n",
              "      <td>4</td>\n",
              "      <td>25.0</td>\n",
              "      <td>102.47</td>\n",
              "      <td>Clear</td>\n",
              "    </tr>\n",
              "    <tr>\n",
              "      <th>8698</th>\n",
              "      <td>12/28/2012 10:00</td>\n",
              "      <td>-6.1</td>\n",
              "      <td>-8.6</td>\n",
              "      <td>82</td>\n",
              "      <td>19</td>\n",
              "      <td>24.1</td>\n",
              "      <td>101.27</td>\n",
              "      <td>Clear</td>\n",
              "    </tr>\n",
              "    <tr>\n",
              "      <th>8713</th>\n",
              "      <td>12/29/2012 1:00</td>\n",
              "      <td>-11.9</td>\n",
              "      <td>-13.6</td>\n",
              "      <td>87</td>\n",
              "      <td>11</td>\n",
              "      <td>25.0</td>\n",
              "      <td>101.31</td>\n",
              "      <td>Clear</td>\n",
              "    </tr>\n",
              "    <tr>\n",
              "      <th>8714</th>\n",
              "      <td>12/29/2012 2:00</td>\n",
              "      <td>-11.8</td>\n",
              "      <td>-13.1</td>\n",
              "      <td>90</td>\n",
              "      <td>13</td>\n",
              "      <td>25.0</td>\n",
              "      <td>101.33</td>\n",
              "      <td>Clear</td>\n",
              "    </tr>\n",
              "    <tr>\n",
              "      <th>8756</th>\n",
              "      <td>12/30/2012 20:00</td>\n",
              "      <td>-13.8</td>\n",
              "      <td>-16.5</td>\n",
              "      <td>80</td>\n",
              "      <td>24</td>\n",
              "      <td>25.0</td>\n",
              "      <td>101.52</td>\n",
              "      <td>Clear</td>\n",
              "    </tr>\n",
              "  </tbody>\n",
              "</table>\n",
              "<p>1326 rows × 8 columns</p>\n",
              "</div>"
            ],
            "text/plain": [
              "             Date/Time  Temp_C  ...  Press_kPa  Weather\n",
              "67      1/3/2012 19:00   -16.9  ...     101.74    Clear\n",
              "114     1/5/2012 18:00    -7.1  ...     100.71    Clear\n",
              "115     1/5/2012 19:00    -9.2  ...     100.80    Clear\n",
              "116     1/5/2012 20:00    -9.8  ...     100.83    Clear\n",
              "117     1/5/2012 21:00    -9.0  ...     100.83    Clear\n",
              "...                ...     ...  ...        ...      ...\n",
              "8646   12/26/2012 6:00   -13.4  ...     102.47    Clear\n",
              "8698  12/28/2012 10:00    -6.1  ...     101.27    Clear\n",
              "8713   12/29/2012 1:00   -11.9  ...     101.31    Clear\n",
              "8714   12/29/2012 2:00   -11.8  ...     101.33    Clear\n",
              "8756  12/30/2012 20:00   -13.8  ...     101.52    Clear\n",
              "\n",
              "[1326 rows x 8 columns]"
            ]
          },
          "metadata": {
            "tags": []
          },
          "execution_count": 45
        }
      ]
    },
    {
      "cell_type": "code",
      "metadata": {
        "colab": {
          "base_uri": "https://localhost:8080/",
          "height": 643
        },
        "id": "SQfIABmKyMs0",
        "outputId": "6d694fae-7e60-42ae-b2da-ba52fb407583"
      },
      "source": [
        "#groupby()\n",
        "#data.head(2)\n",
        "data.groupby('Weather').get_group('Clear')"
      ],
      "execution_count": 47,
      "outputs": [
        {
          "output_type": "execute_result",
          "data": {
            "text/html": [
              "<div>\n",
              "<style scoped>\n",
              "    .dataframe tbody tr th:only-of-type {\n",
              "        vertical-align: middle;\n",
              "    }\n",
              "\n",
              "    .dataframe tbody tr th {\n",
              "        vertical-align: top;\n",
              "    }\n",
              "\n",
              "    .dataframe thead th {\n",
              "        text-align: right;\n",
              "    }\n",
              "</style>\n",
              "<table border=\"1\" class=\"dataframe\">\n",
              "  <thead>\n",
              "    <tr style=\"text-align: right;\">\n",
              "      <th></th>\n",
              "      <th>Date/Time</th>\n",
              "      <th>Temp_C</th>\n",
              "      <th>Dew Point Temp_C</th>\n",
              "      <th>Rel Hum_%</th>\n",
              "      <th>Wind Speed_km/h</th>\n",
              "      <th>Visibility_km</th>\n",
              "      <th>Press_kPa</th>\n",
              "      <th>Weather</th>\n",
              "    </tr>\n",
              "  </thead>\n",
              "  <tbody>\n",
              "    <tr>\n",
              "      <th>67</th>\n",
              "      <td>1/3/2012 19:00</td>\n",
              "      <td>-16.9</td>\n",
              "      <td>-24.8</td>\n",
              "      <td>50</td>\n",
              "      <td>24</td>\n",
              "      <td>25.0</td>\n",
              "      <td>101.74</td>\n",
              "      <td>Clear</td>\n",
              "    </tr>\n",
              "    <tr>\n",
              "      <th>114</th>\n",
              "      <td>1/5/2012 18:00</td>\n",
              "      <td>-7.1</td>\n",
              "      <td>-14.4</td>\n",
              "      <td>56</td>\n",
              "      <td>11</td>\n",
              "      <td>25.0</td>\n",
              "      <td>100.71</td>\n",
              "      <td>Clear</td>\n",
              "    </tr>\n",
              "    <tr>\n",
              "      <th>115</th>\n",
              "      <td>1/5/2012 19:00</td>\n",
              "      <td>-9.2</td>\n",
              "      <td>-15.4</td>\n",
              "      <td>61</td>\n",
              "      <td>7</td>\n",
              "      <td>25.0</td>\n",
              "      <td>100.80</td>\n",
              "      <td>Clear</td>\n",
              "    </tr>\n",
              "    <tr>\n",
              "      <th>116</th>\n",
              "      <td>1/5/2012 20:00</td>\n",
              "      <td>-9.8</td>\n",
              "      <td>-15.7</td>\n",
              "      <td>62</td>\n",
              "      <td>9</td>\n",
              "      <td>25.0</td>\n",
              "      <td>100.83</td>\n",
              "      <td>Clear</td>\n",
              "    </tr>\n",
              "    <tr>\n",
              "      <th>117</th>\n",
              "      <td>1/5/2012 21:00</td>\n",
              "      <td>-9.0</td>\n",
              "      <td>-14.8</td>\n",
              "      <td>63</td>\n",
              "      <td>13</td>\n",
              "      <td>25.0</td>\n",
              "      <td>100.83</td>\n",
              "      <td>Clear</td>\n",
              "    </tr>\n",
              "    <tr>\n",
              "      <th>...</th>\n",
              "      <td>...</td>\n",
              "      <td>...</td>\n",
              "      <td>...</td>\n",
              "      <td>...</td>\n",
              "      <td>...</td>\n",
              "      <td>...</td>\n",
              "      <td>...</td>\n",
              "      <td>...</td>\n",
              "    </tr>\n",
              "    <tr>\n",
              "      <th>8646</th>\n",
              "      <td>12/26/2012 6:00</td>\n",
              "      <td>-13.4</td>\n",
              "      <td>-14.8</td>\n",
              "      <td>89</td>\n",
              "      <td>4</td>\n",
              "      <td>25.0</td>\n",
              "      <td>102.47</td>\n",
              "      <td>Clear</td>\n",
              "    </tr>\n",
              "    <tr>\n",
              "      <th>8698</th>\n",
              "      <td>12/28/2012 10:00</td>\n",
              "      <td>-6.1</td>\n",
              "      <td>-8.6</td>\n",
              "      <td>82</td>\n",
              "      <td>19</td>\n",
              "      <td>24.1</td>\n",
              "      <td>101.27</td>\n",
              "      <td>Clear</td>\n",
              "    </tr>\n",
              "    <tr>\n",
              "      <th>8713</th>\n",
              "      <td>12/29/2012 1:00</td>\n",
              "      <td>-11.9</td>\n",
              "      <td>-13.6</td>\n",
              "      <td>87</td>\n",
              "      <td>11</td>\n",
              "      <td>25.0</td>\n",
              "      <td>101.31</td>\n",
              "      <td>Clear</td>\n",
              "    </tr>\n",
              "    <tr>\n",
              "      <th>8714</th>\n",
              "      <td>12/29/2012 2:00</td>\n",
              "      <td>-11.8</td>\n",
              "      <td>-13.1</td>\n",
              "      <td>90</td>\n",
              "      <td>13</td>\n",
              "      <td>25.0</td>\n",
              "      <td>101.33</td>\n",
              "      <td>Clear</td>\n",
              "    </tr>\n",
              "    <tr>\n",
              "      <th>8756</th>\n",
              "      <td>12/30/2012 20:00</td>\n",
              "      <td>-13.8</td>\n",
              "      <td>-16.5</td>\n",
              "      <td>80</td>\n",
              "      <td>24</td>\n",
              "      <td>25.0</td>\n",
              "      <td>101.52</td>\n",
              "      <td>Clear</td>\n",
              "    </tr>\n",
              "  </tbody>\n",
              "</table>\n",
              "<p>1326 rows × 8 columns</p>\n",
              "</div>"
            ],
            "text/plain": [
              "             Date/Time  Temp_C  ...  Press_kPa  Weather\n",
              "67      1/3/2012 19:00   -16.9  ...     101.74    Clear\n",
              "114     1/5/2012 18:00    -7.1  ...     100.71    Clear\n",
              "115     1/5/2012 19:00    -9.2  ...     100.80    Clear\n",
              "116     1/5/2012 20:00    -9.8  ...     100.83    Clear\n",
              "117     1/5/2012 21:00    -9.0  ...     100.83    Clear\n",
              "...                ...     ...  ...        ...      ...\n",
              "8646   12/26/2012 6:00   -13.4  ...     102.47    Clear\n",
              "8698  12/28/2012 10:00    -6.1  ...     101.27    Clear\n",
              "8713   12/29/2012 1:00   -11.9  ...     101.31    Clear\n",
              "8714   12/29/2012 2:00   -11.8  ...     101.33    Clear\n",
              "8756  12/30/2012 20:00   -13.8  ...     101.52    Clear\n",
              "\n",
              "[1326 rows x 8 columns]"
            ]
          },
          "metadata": {
            "tags": []
          },
          "execution_count": 47
        }
      ]
    },
    {
      "cell_type": "markdown",
      "metadata": {
        "id": "Szaa1b4Ay_kt"
      },
      "source": [
        "### **Finding when the wind speed is exactly 4 km/hr**"
      ]
    },
    {
      "cell_type": "code",
      "metadata": {
        "colab": {
          "base_uri": "https://localhost:8080/",
          "height": 199
        },
        "id": "ShS087Akyq7G",
        "outputId": "a59e779f-6905-45e3-a62f-e099fe658d15"
      },
      "source": [
        "data.head(2)"
      ],
      "execution_count": 48,
      "outputs": [
        {
          "output_type": "execute_result",
          "data": {
            "text/html": [
              "<div>\n",
              "<style scoped>\n",
              "    .dataframe tbody tr th:only-of-type {\n",
              "        vertical-align: middle;\n",
              "    }\n",
              "\n",
              "    .dataframe tbody tr th {\n",
              "        vertical-align: top;\n",
              "    }\n",
              "\n",
              "    .dataframe thead th {\n",
              "        text-align: right;\n",
              "    }\n",
              "</style>\n",
              "<table border=\"1\" class=\"dataframe\">\n",
              "  <thead>\n",
              "    <tr style=\"text-align: right;\">\n",
              "      <th></th>\n",
              "      <th>Date/Time</th>\n",
              "      <th>Temp_C</th>\n",
              "      <th>Dew Point Temp_C</th>\n",
              "      <th>Rel Hum_%</th>\n",
              "      <th>Wind Speed_km/h</th>\n",
              "      <th>Visibility_km</th>\n",
              "      <th>Press_kPa</th>\n",
              "      <th>Weather</th>\n",
              "    </tr>\n",
              "  </thead>\n",
              "  <tbody>\n",
              "    <tr>\n",
              "      <th>0</th>\n",
              "      <td>1/1/2012 0:00</td>\n",
              "      <td>-1.8</td>\n",
              "      <td>-3.9</td>\n",
              "      <td>86</td>\n",
              "      <td>4</td>\n",
              "      <td>8.0</td>\n",
              "      <td>101.24</td>\n",
              "      <td>Fog</td>\n",
              "    </tr>\n",
              "    <tr>\n",
              "      <th>1</th>\n",
              "      <td>1/1/2012 1:00</td>\n",
              "      <td>-1.8</td>\n",
              "      <td>-3.7</td>\n",
              "      <td>87</td>\n",
              "      <td>4</td>\n",
              "      <td>8.0</td>\n",
              "      <td>101.24</td>\n",
              "      <td>Fog</td>\n",
              "    </tr>\n",
              "  </tbody>\n",
              "</table>\n",
              "</div>"
            ],
            "text/plain": [
              "       Date/Time  Temp_C  Dew Point Temp_C  ...  Visibility_km  Press_kPa  Weather\n",
              "0  1/1/2012 0:00    -1.8              -3.9  ...            8.0     101.24      Fog\n",
              "1  1/1/2012 1:00    -1.8              -3.7  ...            8.0     101.24      Fog\n",
              "\n",
              "[2 rows x 8 columns]"
            ]
          },
          "metadata": {
            "tags": []
          },
          "execution_count": 48
        }
      ]
    },
    {
      "cell_type": "code",
      "metadata": {
        "colab": {
          "base_uri": "https://localhost:8080/",
          "height": 643
        },
        "id": "2GhMWxDLzJCl",
        "outputId": "091133e3-725a-4d11-bca8-1ebf3ca082cd"
      },
      "source": [
        "data[data['Wind Speed_km/h'] == 4] #answer"
      ],
      "execution_count": 51,
      "outputs": [
        {
          "output_type": "execute_result",
          "data": {
            "text/html": [
              "<div>\n",
              "<style scoped>\n",
              "    .dataframe tbody tr th:only-of-type {\n",
              "        vertical-align: middle;\n",
              "    }\n",
              "\n",
              "    .dataframe tbody tr th {\n",
              "        vertical-align: top;\n",
              "    }\n",
              "\n",
              "    .dataframe thead th {\n",
              "        text-align: right;\n",
              "    }\n",
              "</style>\n",
              "<table border=\"1\" class=\"dataframe\">\n",
              "  <thead>\n",
              "    <tr style=\"text-align: right;\">\n",
              "      <th></th>\n",
              "      <th>Date/Time</th>\n",
              "      <th>Temp_C</th>\n",
              "      <th>Dew Point Temp_C</th>\n",
              "      <th>Rel Hum_%</th>\n",
              "      <th>Wind Speed_km/h</th>\n",
              "      <th>Visibility_km</th>\n",
              "      <th>Press_kPa</th>\n",
              "      <th>Weather</th>\n",
              "    </tr>\n",
              "  </thead>\n",
              "  <tbody>\n",
              "    <tr>\n",
              "      <th>0</th>\n",
              "      <td>1/1/2012 0:00</td>\n",
              "      <td>-1.8</td>\n",
              "      <td>-3.9</td>\n",
              "      <td>86</td>\n",
              "      <td>4</td>\n",
              "      <td>8.0</td>\n",
              "      <td>101.24</td>\n",
              "      <td>Fog</td>\n",
              "    </tr>\n",
              "    <tr>\n",
              "      <th>1</th>\n",
              "      <td>1/1/2012 1:00</td>\n",
              "      <td>-1.8</td>\n",
              "      <td>-3.7</td>\n",
              "      <td>87</td>\n",
              "      <td>4</td>\n",
              "      <td>8.0</td>\n",
              "      <td>101.24</td>\n",
              "      <td>Fog</td>\n",
              "    </tr>\n",
              "    <tr>\n",
              "      <th>96</th>\n",
              "      <td>1/5/2012 0:00</td>\n",
              "      <td>-8.8</td>\n",
              "      <td>-11.7</td>\n",
              "      <td>79</td>\n",
              "      <td>4</td>\n",
              "      <td>9.7</td>\n",
              "      <td>100.32</td>\n",
              "      <td>Snow</td>\n",
              "    </tr>\n",
              "    <tr>\n",
              "      <th>101</th>\n",
              "      <td>1/5/2012 5:00</td>\n",
              "      <td>-7.0</td>\n",
              "      <td>-9.5</td>\n",
              "      <td>82</td>\n",
              "      <td>4</td>\n",
              "      <td>4.0</td>\n",
              "      <td>100.19</td>\n",
              "      <td>Snow</td>\n",
              "    </tr>\n",
              "    <tr>\n",
              "      <th>146</th>\n",
              "      <td>1/7/2012 2:00</td>\n",
              "      <td>-8.1</td>\n",
              "      <td>-11.1</td>\n",
              "      <td>79</td>\n",
              "      <td>4</td>\n",
              "      <td>19.3</td>\n",
              "      <td>100.15</td>\n",
              "      <td>Cloudy</td>\n",
              "    </tr>\n",
              "    <tr>\n",
              "      <th>...</th>\n",
              "      <td>...</td>\n",
              "      <td>...</td>\n",
              "      <td>...</td>\n",
              "      <td>...</td>\n",
              "      <td>...</td>\n",
              "      <td>...</td>\n",
              "      <td>...</td>\n",
              "      <td>...</td>\n",
              "    </tr>\n",
              "    <tr>\n",
              "      <th>8768</th>\n",
              "      <td>12/31/2012 8:00</td>\n",
              "      <td>-8.6</td>\n",
              "      <td>-10.3</td>\n",
              "      <td>87</td>\n",
              "      <td>4</td>\n",
              "      <td>3.2</td>\n",
              "      <td>101.14</td>\n",
              "      <td>Snow Showers</td>\n",
              "    </tr>\n",
              "    <tr>\n",
              "      <th>8769</th>\n",
              "      <td>12/31/2012 9:00</td>\n",
              "      <td>-8.1</td>\n",
              "      <td>-9.6</td>\n",
              "      <td>89</td>\n",
              "      <td>4</td>\n",
              "      <td>2.4</td>\n",
              "      <td>101.09</td>\n",
              "      <td>Snow</td>\n",
              "    </tr>\n",
              "    <tr>\n",
              "      <th>8770</th>\n",
              "      <td>12/31/2012 10:00</td>\n",
              "      <td>-7.4</td>\n",
              "      <td>-8.9</td>\n",
              "      <td>89</td>\n",
              "      <td>4</td>\n",
              "      <td>6.4</td>\n",
              "      <td>101.05</td>\n",
              "      <td>Snow,Fog</td>\n",
              "    </tr>\n",
              "    <tr>\n",
              "      <th>8772</th>\n",
              "      <td>12/31/2012 12:00</td>\n",
              "      <td>-5.8</td>\n",
              "      <td>-7.5</td>\n",
              "      <td>88</td>\n",
              "      <td>4</td>\n",
              "      <td>12.9</td>\n",
              "      <td>100.78</td>\n",
              "      <td>Snow</td>\n",
              "    </tr>\n",
              "    <tr>\n",
              "      <th>8773</th>\n",
              "      <td>12/31/2012 13:00</td>\n",
              "      <td>-4.6</td>\n",
              "      <td>-6.6</td>\n",
              "      <td>86</td>\n",
              "      <td>4</td>\n",
              "      <td>12.9</td>\n",
              "      <td>100.63</td>\n",
              "      <td>Snow</td>\n",
              "    </tr>\n",
              "  </tbody>\n",
              "</table>\n",
              "<p>474 rows × 8 columns</p>\n",
              "</div>"
            ],
            "text/plain": [
              "             Date/Time  Temp_C  ...  Press_kPa       Weather\n",
              "0        1/1/2012 0:00    -1.8  ...     101.24           Fog\n",
              "1        1/1/2012 1:00    -1.8  ...     101.24           Fog\n",
              "96       1/5/2012 0:00    -8.8  ...     100.32          Snow\n",
              "101      1/5/2012 5:00    -7.0  ...     100.19          Snow\n",
              "146      1/7/2012 2:00    -8.1  ...     100.15        Cloudy\n",
              "...                ...     ...  ...        ...           ...\n",
              "8768   12/31/2012 8:00    -8.6  ...     101.14  Snow Showers\n",
              "8769   12/31/2012 9:00    -8.1  ...     101.09          Snow\n",
              "8770  12/31/2012 10:00    -7.4  ...     101.05      Snow,Fog\n",
              "8772  12/31/2012 12:00    -5.8  ...     100.78          Snow\n",
              "8773  12/31/2012 13:00    -4.6  ...     100.63          Snow\n",
              "\n",
              "[474 rows x 8 columns]"
            ]
          },
          "metadata": {
            "tags": []
          },
          "execution_count": 51
        }
      ]
    },
    {
      "cell_type": "markdown",
      "metadata": {
        "id": "wes1DcPRzjr5"
      },
      "source": [
        "### **Finding out all null values in data**"
      ]
    },
    {
      "cell_type": "code",
      "metadata": {
        "colab": {
          "base_uri": "https://localhost:8080/",
          "height": 473
        },
        "id": "Lkvarvo8zRQz",
        "outputId": "ea8f97fe-a2d2-4fe7-a708-b81dfdc1e936"
      },
      "source": [
        "data.isnull()"
      ],
      "execution_count": 53,
      "outputs": [
        {
          "output_type": "execute_result",
          "data": {
            "text/html": [
              "<div>\n",
              "<style scoped>\n",
              "    .dataframe tbody tr th:only-of-type {\n",
              "        vertical-align: middle;\n",
              "    }\n",
              "\n",
              "    .dataframe tbody tr th {\n",
              "        vertical-align: top;\n",
              "    }\n",
              "\n",
              "    .dataframe thead th {\n",
              "        text-align: right;\n",
              "    }\n",
              "</style>\n",
              "<table border=\"1\" class=\"dataframe\">\n",
              "  <thead>\n",
              "    <tr style=\"text-align: right;\">\n",
              "      <th></th>\n",
              "      <th>Date/Time</th>\n",
              "      <th>Temp_C</th>\n",
              "      <th>Dew Point Temp_C</th>\n",
              "      <th>Rel Hum_%</th>\n",
              "      <th>Wind Speed_km/h</th>\n",
              "      <th>Visibility_km</th>\n",
              "      <th>Press_kPa</th>\n",
              "      <th>Weather</th>\n",
              "    </tr>\n",
              "  </thead>\n",
              "  <tbody>\n",
              "    <tr>\n",
              "      <th>0</th>\n",
              "      <td>False</td>\n",
              "      <td>False</td>\n",
              "      <td>False</td>\n",
              "      <td>False</td>\n",
              "      <td>False</td>\n",
              "      <td>False</td>\n",
              "      <td>False</td>\n",
              "      <td>False</td>\n",
              "    </tr>\n",
              "    <tr>\n",
              "      <th>1</th>\n",
              "      <td>False</td>\n",
              "      <td>False</td>\n",
              "      <td>False</td>\n",
              "      <td>False</td>\n",
              "      <td>False</td>\n",
              "      <td>False</td>\n",
              "      <td>False</td>\n",
              "      <td>False</td>\n",
              "    </tr>\n",
              "    <tr>\n",
              "      <th>2</th>\n",
              "      <td>False</td>\n",
              "      <td>False</td>\n",
              "      <td>False</td>\n",
              "      <td>False</td>\n",
              "      <td>False</td>\n",
              "      <td>False</td>\n",
              "      <td>False</td>\n",
              "      <td>False</td>\n",
              "    </tr>\n",
              "    <tr>\n",
              "      <th>3</th>\n",
              "      <td>False</td>\n",
              "      <td>False</td>\n",
              "      <td>False</td>\n",
              "      <td>False</td>\n",
              "      <td>False</td>\n",
              "      <td>False</td>\n",
              "      <td>False</td>\n",
              "      <td>False</td>\n",
              "    </tr>\n",
              "    <tr>\n",
              "      <th>4</th>\n",
              "      <td>False</td>\n",
              "      <td>False</td>\n",
              "      <td>False</td>\n",
              "      <td>False</td>\n",
              "      <td>False</td>\n",
              "      <td>False</td>\n",
              "      <td>False</td>\n",
              "      <td>False</td>\n",
              "    </tr>\n",
              "    <tr>\n",
              "      <th>...</th>\n",
              "      <td>...</td>\n",
              "      <td>...</td>\n",
              "      <td>...</td>\n",
              "      <td>...</td>\n",
              "      <td>...</td>\n",
              "      <td>...</td>\n",
              "      <td>...</td>\n",
              "      <td>...</td>\n",
              "    </tr>\n",
              "    <tr>\n",
              "      <th>8779</th>\n",
              "      <td>False</td>\n",
              "      <td>False</td>\n",
              "      <td>False</td>\n",
              "      <td>False</td>\n",
              "      <td>False</td>\n",
              "      <td>False</td>\n",
              "      <td>False</td>\n",
              "      <td>False</td>\n",
              "    </tr>\n",
              "    <tr>\n",
              "      <th>8780</th>\n",
              "      <td>False</td>\n",
              "      <td>False</td>\n",
              "      <td>False</td>\n",
              "      <td>False</td>\n",
              "      <td>False</td>\n",
              "      <td>False</td>\n",
              "      <td>False</td>\n",
              "      <td>False</td>\n",
              "    </tr>\n",
              "    <tr>\n",
              "      <th>8781</th>\n",
              "      <td>False</td>\n",
              "      <td>False</td>\n",
              "      <td>False</td>\n",
              "      <td>False</td>\n",
              "      <td>False</td>\n",
              "      <td>False</td>\n",
              "      <td>False</td>\n",
              "      <td>False</td>\n",
              "    </tr>\n",
              "    <tr>\n",
              "      <th>8782</th>\n",
              "      <td>False</td>\n",
              "      <td>False</td>\n",
              "      <td>False</td>\n",
              "      <td>False</td>\n",
              "      <td>False</td>\n",
              "      <td>False</td>\n",
              "      <td>False</td>\n",
              "      <td>False</td>\n",
              "    </tr>\n",
              "    <tr>\n",
              "      <th>8783</th>\n",
              "      <td>False</td>\n",
              "      <td>False</td>\n",
              "      <td>False</td>\n",
              "      <td>False</td>\n",
              "      <td>False</td>\n",
              "      <td>False</td>\n",
              "      <td>False</td>\n",
              "      <td>False</td>\n",
              "    </tr>\n",
              "  </tbody>\n",
              "</table>\n",
              "<p>8784 rows × 8 columns</p>\n",
              "</div>"
            ],
            "text/plain": [
              "      Date/Time  Temp_C  Dew Point Temp_C  ...  Visibility_km  Press_kPa  Weather\n",
              "0         False   False             False  ...          False      False    False\n",
              "1         False   False             False  ...          False      False    False\n",
              "2         False   False             False  ...          False      False    False\n",
              "3         False   False             False  ...          False      False    False\n",
              "4         False   False             False  ...          False      False    False\n",
              "...         ...     ...               ...  ...            ...        ...      ...\n",
              "8779      False   False             False  ...          False      False    False\n",
              "8780      False   False             False  ...          False      False    False\n",
              "8781      False   False             False  ...          False      False    False\n",
              "8782      False   False             False  ...          False      False    False\n",
              "8783      False   False             False  ...          False      False    False\n",
              "\n",
              "[8784 rows x 8 columns]"
            ]
          },
          "metadata": {
            "tags": []
          },
          "execution_count": 53
        }
      ]
    },
    {
      "cell_type": "code",
      "metadata": {
        "colab": {
          "base_uri": "https://localhost:8080/"
        },
        "id": "FIih1f2vzqtN",
        "outputId": "cd69b0ea-0990-4a3a-f3ae-c2368554f144"
      },
      "source": [
        "data.isnull().sum()"
      ],
      "execution_count": 54,
      "outputs": [
        {
          "output_type": "execute_result",
          "data": {
            "text/plain": [
              "Date/Time           0\n",
              "Temp_C              0\n",
              "Dew Point Temp_C    0\n",
              "Rel Hum_%           0\n",
              "Wind Speed_km/h     0\n",
              "Visibility_km       0\n",
              "Press_kPa           0\n",
              "Weather             0\n",
              "dtype: int64"
            ]
          },
          "metadata": {
            "tags": []
          },
          "execution_count": 54
        }
      ]
    },
    {
      "cell_type": "code",
      "metadata": {
        "colab": {
          "base_uri": "https://localhost:8080/"
        },
        "id": "SkHw5h2Mzyw6",
        "outputId": "eff83cf6-2cab-449c-9805-efda60b4bc35"
      },
      "source": [
        "data.notnull().sum()"
      ],
      "execution_count": 55,
      "outputs": [
        {
          "output_type": "execute_result",
          "data": {
            "text/plain": [
              "Date/Time           8784\n",
              "Temp_C              8784\n",
              "Dew Point Temp_C    8784\n",
              "Rel Hum_%           8784\n",
              "Wind Speed_km/h     8784\n",
              "Visibility_km       8784\n",
              "Press_kPa           8784\n",
              "Weather             8784\n",
              "dtype: int64"
            ]
          },
          "metadata": {
            "tags": []
          },
          "execution_count": 55
        }
      ]
    },
    {
      "cell_type": "markdown",
      "metadata": {
        "id": "ZzwbuImwz-pO"
      },
      "source": [
        "### **Mean of visibility**"
      ]
    },
    {
      "cell_type": "code",
      "metadata": {
        "colab": {
          "base_uri": "https://localhost:8080/",
          "height": 199
        },
        "id": "qoyaX1IGz2Mm",
        "outputId": "82690696-e260-4136-bbc7-89387688d9d0"
      },
      "source": [
        "data.head(2)"
      ],
      "execution_count": 56,
      "outputs": [
        {
          "output_type": "execute_result",
          "data": {
            "text/html": [
              "<div>\n",
              "<style scoped>\n",
              "    .dataframe tbody tr th:only-of-type {\n",
              "        vertical-align: middle;\n",
              "    }\n",
              "\n",
              "    .dataframe tbody tr th {\n",
              "        vertical-align: top;\n",
              "    }\n",
              "\n",
              "    .dataframe thead th {\n",
              "        text-align: right;\n",
              "    }\n",
              "</style>\n",
              "<table border=\"1\" class=\"dataframe\">\n",
              "  <thead>\n",
              "    <tr style=\"text-align: right;\">\n",
              "      <th></th>\n",
              "      <th>Date/Time</th>\n",
              "      <th>Temp_C</th>\n",
              "      <th>Dew Point Temp_C</th>\n",
              "      <th>Rel Hum_%</th>\n",
              "      <th>Wind Speed_km/h</th>\n",
              "      <th>Visibility_km</th>\n",
              "      <th>Press_kPa</th>\n",
              "      <th>Weather</th>\n",
              "    </tr>\n",
              "  </thead>\n",
              "  <tbody>\n",
              "    <tr>\n",
              "      <th>0</th>\n",
              "      <td>1/1/2012 0:00</td>\n",
              "      <td>-1.8</td>\n",
              "      <td>-3.9</td>\n",
              "      <td>86</td>\n",
              "      <td>4</td>\n",
              "      <td>8.0</td>\n",
              "      <td>101.24</td>\n",
              "      <td>Fog</td>\n",
              "    </tr>\n",
              "    <tr>\n",
              "      <th>1</th>\n",
              "      <td>1/1/2012 1:00</td>\n",
              "      <td>-1.8</td>\n",
              "      <td>-3.7</td>\n",
              "      <td>87</td>\n",
              "      <td>4</td>\n",
              "      <td>8.0</td>\n",
              "      <td>101.24</td>\n",
              "      <td>Fog</td>\n",
              "    </tr>\n",
              "  </tbody>\n",
              "</table>\n",
              "</div>"
            ],
            "text/plain": [
              "       Date/Time  Temp_C  Dew Point Temp_C  ...  Visibility_km  Press_kPa  Weather\n",
              "0  1/1/2012 0:00    -1.8              -3.9  ...            8.0     101.24      Fog\n",
              "1  1/1/2012 1:00    -1.8              -3.7  ...            8.0     101.24      Fog\n",
              "\n",
              "[2 rows x 8 columns]"
            ]
          },
          "metadata": {
            "tags": []
          },
          "execution_count": 56
        }
      ]
    },
    {
      "cell_type": "code",
      "metadata": {
        "colab": {
          "base_uri": "https://localhost:8080/"
        },
        "id": "UeABIYoA0NpT",
        "outputId": "b4cc6b38-795f-4af8-8a16-602356f0cd2e"
      },
      "source": [
        "data.Visibility_km.mean()"
      ],
      "execution_count": 57,
      "outputs": [
        {
          "output_type": "execute_result",
          "data": {
            "text/plain": [
              "27.66444672131151"
            ]
          },
          "metadata": {
            "tags": []
          },
          "execution_count": 57
        }
      ]
    },
    {
      "cell_type": "markdown",
      "metadata": {
        "id": "C5POMsKG0bGP"
      },
      "source": [
        "### **Standard Deviation of Pressure in this data**"
      ]
    },
    {
      "cell_type": "code",
      "metadata": {
        "colab": {
          "base_uri": "https://localhost:8080/"
        },
        "id": "fd1TmOMV0Vop",
        "outputId": "5b034fd5-ac5f-476e-eabe-571c3110e76f"
      },
      "source": [
        "data.Press_kPa.std()"
      ],
      "execution_count": 58,
      "outputs": [
        {
          "output_type": "execute_result",
          "data": {
            "text/plain": [
              "0.8440047459486474"
            ]
          },
          "metadata": {
            "tags": []
          },
          "execution_count": 58
        }
      ]
    },
    {
      "cell_type": "markdown",
      "metadata": {
        "id": "nOyS-iYC0mdU"
      },
      "source": [
        "### **Variance of relative humidity in this data**"
      ]
    },
    {
      "cell_type": "code",
      "metadata": {
        "colab": {
          "base_uri": "https://localhost:8080/"
        },
        "id": "5hnfA6fn0jQf",
        "outputId": "0a6f8ed8-1166-4f53-99f1-297836e3a8ce"
      },
      "source": [
        "data['Rel Hum_%'].var()"
      ],
      "execution_count": 59,
      "outputs": [
        {
          "output_type": "execute_result",
          "data": {
            "text/plain": [
              "286.2485501984998"
            ]
          },
          "metadata": {
            "tags": []
          },
          "execution_count": 59
        }
      ]
    },
    {
      "cell_type": "markdown",
      "metadata": {
        "id": "KDNG-Wk707RI"
      },
      "source": [
        "### **Finding all instances when snow was recorded**"
      ]
    },
    {
      "cell_type": "code",
      "metadata": {
        "colab": {
          "base_uri": "https://localhost:8080/"
        },
        "id": "45oBLDdo04L_",
        "outputId": "da1181b5-25d0-4f5a-e715-2701eb97683c"
      },
      "source": [
        "# value_counts()\n",
        "#data.head(2)\n",
        "data['Weather'].value_counts()"
      ],
      "execution_count": 61,
      "outputs": [
        {
          "output_type": "execute_result",
          "data": {
            "text/plain": [
              "Mainly Clear                               2106\n",
              "Mostly Cloudy                              2069\n",
              "Cloudy                                     1728\n",
              "Clear                                      1326\n",
              "Snow                                        390\n",
              "Rain                                        306\n",
              "Rain Showers                                188\n",
              "Fog                                         150\n",
              "Rain,Fog                                    116\n",
              "Drizzle,Fog                                  80\n",
              "Snow Showers                                 60\n",
              "Drizzle                                      41\n",
              "Snow,Fog                                     37\n",
              "Snow,Blowing Snow                            19\n",
              "Rain,Snow                                    18\n",
              "Haze                                         16\n",
              "Thunderstorms,Rain Showers                   16\n",
              "Drizzle,Snow,Fog                             15\n",
              "Freezing Rain                                14\n",
              "Freezing Drizzle,Snow                        11\n",
              "Freezing Drizzle                              7\n",
              "Freezing Drizzle,Fog                          6\n",
              "Snow,Ice Pellets                              6\n",
              "Snow,Haze                                     5\n",
              "Snow Showers,Fog                              4\n",
              "Rain,Snow,Ice Pellets                         4\n",
              "Freezing Rain,Fog                             4\n",
              "Freezing Fog                                  4\n",
              "Moderate Snow                                 4\n",
              "Freezing Drizzle,Haze                         3\n",
              "Thunderstorms,Rain Showers,Fog                3\n",
              "Rain,Haze                                     3\n",
              "Thunderstorms,Rain                            3\n",
              "Moderate Snow,Blowing Snow                    2\n",
              "Rain Showers,Snow Showers                     2\n",
              "Drizzle,Snow                                  2\n",
              "Thunderstorms                                 2\n",
              "Freezing Rain,Haze                            2\n",
              "Snow Pellets                                  1\n",
              "Thunderstorms,Moderate Rain Showers,Fog       1\n",
              "Thunderstorms,Heavy Rain Showers              1\n",
              "Freezing Rain,Ice Pellets,Fog                 1\n",
              "Drizzle,Ice Pellets,Fog                       1\n",
              "Rain Showers,Fog                              1\n",
              "Thunderstorms,Rain,Fog                        1\n",
              "Rain,Snow,Fog                                 1\n",
              "Rain,Ice Pellets                              1\n",
              "Moderate Rain,Fog                             1\n",
              "Freezing Rain,Snow Grains                     1\n",
              "Rain,Snow Grains                              1\n",
              "Name: Weather, dtype: int64"
            ]
          },
          "metadata": {
            "tags": []
          },
          "execution_count": 61
        }
      ]
    },
    {
      "cell_type": "code",
      "metadata": {
        "colab": {
          "base_uri": "https://localhost:8080/",
          "height": 643
        },
        "id": "uUqLc_nU1NxA",
        "outputId": "3633d386-3330-4759-d4dd-0e33b95ded96"
      },
      "source": [
        "#Filtering\n",
        "data[data['Weather'] == 'Snow']"
      ],
      "execution_count": 63,
      "outputs": [
        {
          "output_type": "execute_result",
          "data": {
            "text/html": [
              "<div>\n",
              "<style scoped>\n",
              "    .dataframe tbody tr th:only-of-type {\n",
              "        vertical-align: middle;\n",
              "    }\n",
              "\n",
              "    .dataframe tbody tr th {\n",
              "        vertical-align: top;\n",
              "    }\n",
              "\n",
              "    .dataframe thead th {\n",
              "        text-align: right;\n",
              "    }\n",
              "</style>\n",
              "<table border=\"1\" class=\"dataframe\">\n",
              "  <thead>\n",
              "    <tr style=\"text-align: right;\">\n",
              "      <th></th>\n",
              "      <th>Date/Time</th>\n",
              "      <th>Temp_C</th>\n",
              "      <th>Dew Point Temp_C</th>\n",
              "      <th>Rel Hum_%</th>\n",
              "      <th>Wind Speed_km/h</th>\n",
              "      <th>Visibility_km</th>\n",
              "      <th>Press_kPa</th>\n",
              "      <th>Weather</th>\n",
              "    </tr>\n",
              "  </thead>\n",
              "  <tbody>\n",
              "    <tr>\n",
              "      <th>55</th>\n",
              "      <td>1/3/2012 7:00</td>\n",
              "      <td>-14.0</td>\n",
              "      <td>-19.5</td>\n",
              "      <td>63</td>\n",
              "      <td>19</td>\n",
              "      <td>25.0</td>\n",
              "      <td>100.95</td>\n",
              "      <td>Snow</td>\n",
              "    </tr>\n",
              "    <tr>\n",
              "      <th>84</th>\n",
              "      <td>1/4/2012 12:00</td>\n",
              "      <td>-13.7</td>\n",
              "      <td>-21.7</td>\n",
              "      <td>51</td>\n",
              "      <td>11</td>\n",
              "      <td>24.1</td>\n",
              "      <td>101.25</td>\n",
              "      <td>Snow</td>\n",
              "    </tr>\n",
              "    <tr>\n",
              "      <th>86</th>\n",
              "      <td>1/4/2012 14:00</td>\n",
              "      <td>-11.3</td>\n",
              "      <td>-19.0</td>\n",
              "      <td>53</td>\n",
              "      <td>7</td>\n",
              "      <td>19.3</td>\n",
              "      <td>100.97</td>\n",
              "      <td>Snow</td>\n",
              "    </tr>\n",
              "    <tr>\n",
              "      <th>87</th>\n",
              "      <td>1/4/2012 15:00</td>\n",
              "      <td>-10.2</td>\n",
              "      <td>-16.3</td>\n",
              "      <td>61</td>\n",
              "      <td>11</td>\n",
              "      <td>9.7</td>\n",
              "      <td>100.89</td>\n",
              "      <td>Snow</td>\n",
              "    </tr>\n",
              "    <tr>\n",
              "      <th>88</th>\n",
              "      <td>1/4/2012 16:00</td>\n",
              "      <td>-9.4</td>\n",
              "      <td>-15.5</td>\n",
              "      <td>61</td>\n",
              "      <td>13</td>\n",
              "      <td>19.3</td>\n",
              "      <td>100.79</td>\n",
              "      <td>Snow</td>\n",
              "    </tr>\n",
              "    <tr>\n",
              "      <th>...</th>\n",
              "      <td>...</td>\n",
              "      <td>...</td>\n",
              "      <td>...</td>\n",
              "      <td>...</td>\n",
              "      <td>...</td>\n",
              "      <td>...</td>\n",
              "      <td>...</td>\n",
              "      <td>...</td>\n",
              "    </tr>\n",
              "    <tr>\n",
              "      <th>8779</th>\n",
              "      <td>12/31/2012 19:00</td>\n",
              "      <td>0.1</td>\n",
              "      <td>-2.7</td>\n",
              "      <td>81</td>\n",
              "      <td>30</td>\n",
              "      <td>9.7</td>\n",
              "      <td>100.13</td>\n",
              "      <td>Snow</td>\n",
              "    </tr>\n",
              "    <tr>\n",
              "      <th>8780</th>\n",
              "      <td>12/31/2012 20:00</td>\n",
              "      <td>0.2</td>\n",
              "      <td>-2.4</td>\n",
              "      <td>83</td>\n",
              "      <td>24</td>\n",
              "      <td>9.7</td>\n",
              "      <td>100.03</td>\n",
              "      <td>Snow</td>\n",
              "    </tr>\n",
              "    <tr>\n",
              "      <th>8781</th>\n",
              "      <td>12/31/2012 21:00</td>\n",
              "      <td>-0.5</td>\n",
              "      <td>-1.5</td>\n",
              "      <td>93</td>\n",
              "      <td>28</td>\n",
              "      <td>4.8</td>\n",
              "      <td>99.95</td>\n",
              "      <td>Snow</td>\n",
              "    </tr>\n",
              "    <tr>\n",
              "      <th>8782</th>\n",
              "      <td>12/31/2012 22:00</td>\n",
              "      <td>-0.2</td>\n",
              "      <td>-1.8</td>\n",
              "      <td>89</td>\n",
              "      <td>28</td>\n",
              "      <td>9.7</td>\n",
              "      <td>99.91</td>\n",
              "      <td>Snow</td>\n",
              "    </tr>\n",
              "    <tr>\n",
              "      <th>8783</th>\n",
              "      <td>12/31/2012 23:00</td>\n",
              "      <td>0.0</td>\n",
              "      <td>-2.1</td>\n",
              "      <td>86</td>\n",
              "      <td>30</td>\n",
              "      <td>11.3</td>\n",
              "      <td>99.89</td>\n",
              "      <td>Snow</td>\n",
              "    </tr>\n",
              "  </tbody>\n",
              "</table>\n",
              "<p>390 rows × 8 columns</p>\n",
              "</div>"
            ],
            "text/plain": [
              "             Date/Time  Temp_C  ...  Press_kPa  Weather\n",
              "55       1/3/2012 7:00   -14.0  ...     100.95     Snow\n",
              "84      1/4/2012 12:00   -13.7  ...     101.25     Snow\n",
              "86      1/4/2012 14:00   -11.3  ...     100.97     Snow\n",
              "87      1/4/2012 15:00   -10.2  ...     100.89     Snow\n",
              "88      1/4/2012 16:00    -9.4  ...     100.79     Snow\n",
              "...                ...     ...  ...        ...      ...\n",
              "8779  12/31/2012 19:00     0.1  ...     100.13     Snow\n",
              "8780  12/31/2012 20:00     0.2  ...     100.03     Snow\n",
              "8781  12/31/2012 21:00    -0.5  ...      99.95     Snow\n",
              "8782  12/31/2012 22:00    -0.2  ...      99.91     Snow\n",
              "8783  12/31/2012 23:00     0.0  ...      99.89     Snow\n",
              "\n",
              "[390 rows x 8 columns]"
            ]
          },
          "metadata": {
            "tags": []
          },
          "execution_count": 63
        }
      ]
    },
    {
      "cell_type": "code",
      "metadata": {
        "colab": {
          "base_uri": "https://localhost:8080/",
          "height": 1000
        },
        "id": "qpis1VCg1gZP",
        "outputId": "b982acc6-1233-4eba-fad6-60f9a7eef398"
      },
      "source": [
        "#str.contains\n",
        "data[data['Weather'].str.contains('Snow')].tail(50)"
      ],
      "execution_count": 67,
      "outputs": [
        {
          "output_type": "execute_result",
          "data": {
            "text/html": [
              "<div>\n",
              "<style scoped>\n",
              "    .dataframe tbody tr th:only-of-type {\n",
              "        vertical-align: middle;\n",
              "    }\n",
              "\n",
              "    .dataframe tbody tr th {\n",
              "        vertical-align: top;\n",
              "    }\n",
              "\n",
              "    .dataframe thead th {\n",
              "        text-align: right;\n",
              "    }\n",
              "</style>\n",
              "<table border=\"1\" class=\"dataframe\">\n",
              "  <thead>\n",
              "    <tr style=\"text-align: right;\">\n",
              "      <th></th>\n",
              "      <th>Date/Time</th>\n",
              "      <th>Temp_C</th>\n",
              "      <th>Dew Point Temp_C</th>\n",
              "      <th>Rel Hum_%</th>\n",
              "      <th>Wind Speed_km/h</th>\n",
              "      <th>Visibility_km</th>\n",
              "      <th>Press_kPa</th>\n",
              "      <th>Weather</th>\n",
              "    </tr>\n",
              "  </thead>\n",
              "  <tbody>\n",
              "    <tr>\n",
              "      <th>8680</th>\n",
              "      <td>12/27/2012 16:00</td>\n",
              "      <td>-4.5</td>\n",
              "      <td>-6.2</td>\n",
              "      <td>88</td>\n",
              "      <td>37</td>\n",
              "      <td>2.0</td>\n",
              "      <td>100.44</td>\n",
              "      <td>Snow,Blowing Snow</td>\n",
              "    </tr>\n",
              "    <tr>\n",
              "      <th>8681</th>\n",
              "      <td>12/27/2012 17:00</td>\n",
              "      <td>-4.2</td>\n",
              "      <td>-5.9</td>\n",
              "      <td>88</td>\n",
              "      <td>32</td>\n",
              "      <td>3.2</td>\n",
              "      <td>100.47</td>\n",
              "      <td>Snow,Blowing Snow</td>\n",
              "    </tr>\n",
              "    <tr>\n",
              "      <th>8682</th>\n",
              "      <td>12/27/2012 18:00</td>\n",
              "      <td>-4.0</td>\n",
              "      <td>-5.7</td>\n",
              "      <td>88</td>\n",
              "      <td>28</td>\n",
              "      <td>8.0</td>\n",
              "      <td>100.49</td>\n",
              "      <td>Snow,Blowing Snow</td>\n",
              "    </tr>\n",
              "    <tr>\n",
              "      <th>8683</th>\n",
              "      <td>12/27/2012 19:00</td>\n",
              "      <td>-3.9</td>\n",
              "      <td>-5.6</td>\n",
              "      <td>88</td>\n",
              "      <td>26</td>\n",
              "      <td>9.7</td>\n",
              "      <td>100.52</td>\n",
              "      <td>Snow,Blowing Snow</td>\n",
              "    </tr>\n",
              "    <tr>\n",
              "      <th>8684</th>\n",
              "      <td>12/27/2012 20:00</td>\n",
              "      <td>-3.7</td>\n",
              "      <td>-5.3</td>\n",
              "      <td>89</td>\n",
              "      <td>37</td>\n",
              "      <td>16.1</td>\n",
              "      <td>100.58</td>\n",
              "      <td>Snow</td>\n",
              "    </tr>\n",
              "    <tr>\n",
              "      <th>8685</th>\n",
              "      <td>12/27/2012 21:00</td>\n",
              "      <td>-3.7</td>\n",
              "      <td>-4.8</td>\n",
              "      <td>92</td>\n",
              "      <td>24</td>\n",
              "      <td>4.8</td>\n",
              "      <td>100.62</td>\n",
              "      <td>Freezing Drizzle,Snow</td>\n",
              "    </tr>\n",
              "    <tr>\n",
              "      <th>8686</th>\n",
              "      <td>12/27/2012 22:00</td>\n",
              "      <td>-3.8</td>\n",
              "      <td>-4.6</td>\n",
              "      <td>94</td>\n",
              "      <td>20</td>\n",
              "      <td>4.8</td>\n",
              "      <td>100.65</td>\n",
              "      <td>Freezing Drizzle,Snow</td>\n",
              "    </tr>\n",
              "    <tr>\n",
              "      <th>8687</th>\n",
              "      <td>12/27/2012 23:00</td>\n",
              "      <td>-4.0</td>\n",
              "      <td>-5.6</td>\n",
              "      <td>89</td>\n",
              "      <td>24</td>\n",
              "      <td>9.7</td>\n",
              "      <td>100.70</td>\n",
              "      <td>Snow</td>\n",
              "    </tr>\n",
              "    <tr>\n",
              "      <th>8688</th>\n",
              "      <td>12/28/2012 0:00</td>\n",
              "      <td>-4.2</td>\n",
              "      <td>-5.7</td>\n",
              "      <td>89</td>\n",
              "      <td>19</td>\n",
              "      <td>8.0</td>\n",
              "      <td>100.78</td>\n",
              "      <td>Freezing Drizzle,Snow</td>\n",
              "    </tr>\n",
              "    <tr>\n",
              "      <th>8689</th>\n",
              "      <td>12/28/2012 1:00</td>\n",
              "      <td>-4.4</td>\n",
              "      <td>-6.6</td>\n",
              "      <td>85</td>\n",
              "      <td>15</td>\n",
              "      <td>6.4</td>\n",
              "      <td>100.83</td>\n",
              "      <td>Freezing Drizzle,Snow</td>\n",
              "    </tr>\n",
              "    <tr>\n",
              "      <th>8690</th>\n",
              "      <td>12/28/2012 2:00</td>\n",
              "      <td>-4.3</td>\n",
              "      <td>-6.3</td>\n",
              "      <td>86</td>\n",
              "      <td>11</td>\n",
              "      <td>12.9</td>\n",
              "      <td>100.93</td>\n",
              "      <td>Freezing Drizzle,Snow</td>\n",
              "    </tr>\n",
              "    <tr>\n",
              "      <th>8691</th>\n",
              "      <td>12/28/2012 3:00</td>\n",
              "      <td>-4.6</td>\n",
              "      <td>-5.9</td>\n",
              "      <td>91</td>\n",
              "      <td>13</td>\n",
              "      <td>4.0</td>\n",
              "      <td>101.01</td>\n",
              "      <td>Snow</td>\n",
              "    </tr>\n",
              "    <tr>\n",
              "      <th>8692</th>\n",
              "      <td>12/28/2012 4:00</td>\n",
              "      <td>-4.9</td>\n",
              "      <td>-5.9</td>\n",
              "      <td>93</td>\n",
              "      <td>9</td>\n",
              "      <td>9.7</td>\n",
              "      <td>101.00</td>\n",
              "      <td>Snow</td>\n",
              "    </tr>\n",
              "    <tr>\n",
              "      <th>8723</th>\n",
              "      <td>12/29/2012 11:00</td>\n",
              "      <td>-10.9</td>\n",
              "      <td>-12.2</td>\n",
              "      <td>90</td>\n",
              "      <td>7</td>\n",
              "      <td>6.4</td>\n",
              "      <td>101.09</td>\n",
              "      <td>Snow Showers,Fog</td>\n",
              "    </tr>\n",
              "    <tr>\n",
              "      <th>8724</th>\n",
              "      <td>12/29/2012 12:00</td>\n",
              "      <td>-10.5</td>\n",
              "      <td>-11.6</td>\n",
              "      <td>92</td>\n",
              "      <td>11</td>\n",
              "      <td>8.0</td>\n",
              "      <td>100.93</td>\n",
              "      <td>Snow Showers,Fog</td>\n",
              "    </tr>\n",
              "    <tr>\n",
              "      <th>8725</th>\n",
              "      <td>12/29/2012 13:00</td>\n",
              "      <td>-10.0</td>\n",
              "      <td>-11.1</td>\n",
              "      <td>92</td>\n",
              "      <td>22</td>\n",
              "      <td>9.7</td>\n",
              "      <td>100.63</td>\n",
              "      <td>Snow Showers,Fog</td>\n",
              "    </tr>\n",
              "    <tr>\n",
              "      <th>8726</th>\n",
              "      <td>12/29/2012 14:00</td>\n",
              "      <td>-9.3</td>\n",
              "      <td>-10.5</td>\n",
              "      <td>91</td>\n",
              "      <td>22</td>\n",
              "      <td>4.8</td>\n",
              "      <td>100.60</td>\n",
              "      <td>Snow,Fog</td>\n",
              "    </tr>\n",
              "    <tr>\n",
              "      <th>8727</th>\n",
              "      <td>12/29/2012 15:00</td>\n",
              "      <td>-8.8</td>\n",
              "      <td>-10.0</td>\n",
              "      <td>91</td>\n",
              "      <td>20</td>\n",
              "      <td>1.2</td>\n",
              "      <td>100.55</td>\n",
              "      <td>Snow,Fog</td>\n",
              "    </tr>\n",
              "    <tr>\n",
              "      <th>8728</th>\n",
              "      <td>12/29/2012 16:00</td>\n",
              "      <td>-8.5</td>\n",
              "      <td>-9.9</td>\n",
              "      <td>90</td>\n",
              "      <td>24</td>\n",
              "      <td>1.2</td>\n",
              "      <td>100.49</td>\n",
              "      <td>Snow,Fog</td>\n",
              "    </tr>\n",
              "    <tr>\n",
              "      <th>8729</th>\n",
              "      <td>12/29/2012 17:00</td>\n",
              "      <td>-9.0</td>\n",
              "      <td>-10.4</td>\n",
              "      <td>90</td>\n",
              "      <td>19</td>\n",
              "      <td>2.4</td>\n",
              "      <td>100.46</td>\n",
              "      <td>Snow,Fog</td>\n",
              "    </tr>\n",
              "    <tr>\n",
              "      <th>8730</th>\n",
              "      <td>12/29/2012 18:00</td>\n",
              "      <td>-9.3</td>\n",
              "      <td>-10.9</td>\n",
              "      <td>88</td>\n",
              "      <td>26</td>\n",
              "      <td>6.4</td>\n",
              "      <td>100.38</td>\n",
              "      <td>Snow,Fog</td>\n",
              "    </tr>\n",
              "    <tr>\n",
              "      <th>8731</th>\n",
              "      <td>12/29/2012 19:00</td>\n",
              "      <td>-9.5</td>\n",
              "      <td>-11.2</td>\n",
              "      <td>87</td>\n",
              "      <td>26</td>\n",
              "      <td>3.2</td>\n",
              "      <td>100.33</td>\n",
              "      <td>Snow,Fog</td>\n",
              "    </tr>\n",
              "    <tr>\n",
              "      <th>8732</th>\n",
              "      <td>12/29/2012 20:00</td>\n",
              "      <td>-9.7</td>\n",
              "      <td>-11.6</td>\n",
              "      <td>86</td>\n",
              "      <td>24</td>\n",
              "      <td>9.7</td>\n",
              "      <td>100.25</td>\n",
              "      <td>Snow,Fog</td>\n",
              "    </tr>\n",
              "    <tr>\n",
              "      <th>8733</th>\n",
              "      <td>12/29/2012 21:00</td>\n",
              "      <td>-9.8</td>\n",
              "      <td>-11.8</td>\n",
              "      <td>85</td>\n",
              "      <td>24</td>\n",
              "      <td>8.0</td>\n",
              "      <td>100.24</td>\n",
              "      <td>Snow,Fog</td>\n",
              "    </tr>\n",
              "    <tr>\n",
              "      <th>8734</th>\n",
              "      <td>12/29/2012 22:00</td>\n",
              "      <td>-10.1</td>\n",
              "      <td>-11.6</td>\n",
              "      <td>89</td>\n",
              "      <td>15</td>\n",
              "      <td>2.4</td>\n",
              "      <td>100.20</td>\n",
              "      <td>Snow,Fog</td>\n",
              "    </tr>\n",
              "    <tr>\n",
              "      <th>8735</th>\n",
              "      <td>12/29/2012 23:00</td>\n",
              "      <td>-10.0</td>\n",
              "      <td>-12.0</td>\n",
              "      <td>85</td>\n",
              "      <td>20</td>\n",
              "      <td>6.4</td>\n",
              "      <td>100.19</td>\n",
              "      <td>Snow,Fog</td>\n",
              "    </tr>\n",
              "    <tr>\n",
              "      <th>8736</th>\n",
              "      <td>12/30/2012 0:00</td>\n",
              "      <td>-9.6</td>\n",
              "      <td>-11.3</td>\n",
              "      <td>87</td>\n",
              "      <td>13</td>\n",
              "      <td>3.2</td>\n",
              "      <td>100.23</td>\n",
              "      <td>Snow,Fog</td>\n",
              "    </tr>\n",
              "    <tr>\n",
              "      <th>8737</th>\n",
              "      <td>12/30/2012 1:00</td>\n",
              "      <td>-9.4</td>\n",
              "      <td>-10.5</td>\n",
              "      <td>92</td>\n",
              "      <td>9</td>\n",
              "      <td>2.4</td>\n",
              "      <td>100.22</td>\n",
              "      <td>Snow,Fog</td>\n",
              "    </tr>\n",
              "    <tr>\n",
              "      <th>8738</th>\n",
              "      <td>12/30/2012 2:00</td>\n",
              "      <td>-9.3</td>\n",
              "      <td>-10.4</td>\n",
              "      <td>92</td>\n",
              "      <td>9</td>\n",
              "      <td>4.0</td>\n",
              "      <td>100.28</td>\n",
              "      <td>Snow,Fog</td>\n",
              "    </tr>\n",
              "    <tr>\n",
              "      <th>8739</th>\n",
              "      <td>12/30/2012 3:00</td>\n",
              "      <td>-9.1</td>\n",
              "      <td>-10.4</td>\n",
              "      <td>90</td>\n",
              "      <td>11</td>\n",
              "      <td>3.6</td>\n",
              "      <td>100.30</td>\n",
              "      <td>Snow,Fog</td>\n",
              "    </tr>\n",
              "    <tr>\n",
              "      <th>8740</th>\n",
              "      <td>12/30/2012 4:00</td>\n",
              "      <td>-9.3</td>\n",
              "      <td>-10.6</td>\n",
              "      <td>90</td>\n",
              "      <td>13</td>\n",
              "      <td>9.7</td>\n",
              "      <td>100.28</td>\n",
              "      <td>Snow,Fog</td>\n",
              "    </tr>\n",
              "    <tr>\n",
              "      <th>8741</th>\n",
              "      <td>12/30/2012 5:00</td>\n",
              "      <td>-9.1</td>\n",
              "      <td>-10.4</td>\n",
              "      <td>90</td>\n",
              "      <td>11</td>\n",
              "      <td>4.0</td>\n",
              "      <td>100.32</td>\n",
              "      <td>Snow,Fog</td>\n",
              "    </tr>\n",
              "    <tr>\n",
              "      <th>8742</th>\n",
              "      <td>12/30/2012 6:00</td>\n",
              "      <td>-9.3</td>\n",
              "      <td>-10.8</td>\n",
              "      <td>89</td>\n",
              "      <td>17</td>\n",
              "      <td>8.0</td>\n",
              "      <td>100.39</td>\n",
              "      <td>Snow,Fog</td>\n",
              "    </tr>\n",
              "    <tr>\n",
              "      <th>8767</th>\n",
              "      <td>12/31/2012 7:00</td>\n",
              "      <td>-9.3</td>\n",
              "      <td>-11.3</td>\n",
              "      <td>85</td>\n",
              "      <td>0</td>\n",
              "      <td>19.3</td>\n",
              "      <td>101.19</td>\n",
              "      <td>Snow Showers</td>\n",
              "    </tr>\n",
              "    <tr>\n",
              "      <th>8768</th>\n",
              "      <td>12/31/2012 8:00</td>\n",
              "      <td>-8.6</td>\n",
              "      <td>-10.3</td>\n",
              "      <td>87</td>\n",
              "      <td>4</td>\n",
              "      <td>3.2</td>\n",
              "      <td>101.14</td>\n",
              "      <td>Snow Showers</td>\n",
              "    </tr>\n",
              "    <tr>\n",
              "      <th>8769</th>\n",
              "      <td>12/31/2012 9:00</td>\n",
              "      <td>-8.1</td>\n",
              "      <td>-9.6</td>\n",
              "      <td>89</td>\n",
              "      <td>4</td>\n",
              "      <td>2.4</td>\n",
              "      <td>101.09</td>\n",
              "      <td>Snow</td>\n",
              "    </tr>\n",
              "    <tr>\n",
              "      <th>8770</th>\n",
              "      <td>12/31/2012 10:00</td>\n",
              "      <td>-7.4</td>\n",
              "      <td>-8.9</td>\n",
              "      <td>89</td>\n",
              "      <td>4</td>\n",
              "      <td>6.4</td>\n",
              "      <td>101.05</td>\n",
              "      <td>Snow,Fog</td>\n",
              "    </tr>\n",
              "    <tr>\n",
              "      <th>8771</th>\n",
              "      <td>12/31/2012 11:00</td>\n",
              "      <td>-6.7</td>\n",
              "      <td>-7.9</td>\n",
              "      <td>91</td>\n",
              "      <td>9</td>\n",
              "      <td>9.7</td>\n",
              "      <td>100.93</td>\n",
              "      <td>Snow</td>\n",
              "    </tr>\n",
              "    <tr>\n",
              "      <th>8772</th>\n",
              "      <td>12/31/2012 12:00</td>\n",
              "      <td>-5.8</td>\n",
              "      <td>-7.5</td>\n",
              "      <td>88</td>\n",
              "      <td>4</td>\n",
              "      <td>12.9</td>\n",
              "      <td>100.78</td>\n",
              "      <td>Snow</td>\n",
              "    </tr>\n",
              "    <tr>\n",
              "      <th>8773</th>\n",
              "      <td>12/31/2012 13:00</td>\n",
              "      <td>-4.6</td>\n",
              "      <td>-6.6</td>\n",
              "      <td>86</td>\n",
              "      <td>4</td>\n",
              "      <td>12.9</td>\n",
              "      <td>100.63</td>\n",
              "      <td>Snow</td>\n",
              "    </tr>\n",
              "    <tr>\n",
              "      <th>8774</th>\n",
              "      <td>12/31/2012 14:00</td>\n",
              "      <td>-3.4</td>\n",
              "      <td>-5.7</td>\n",
              "      <td>84</td>\n",
              "      <td>6</td>\n",
              "      <td>11.3</td>\n",
              "      <td>100.57</td>\n",
              "      <td>Snow</td>\n",
              "    </tr>\n",
              "    <tr>\n",
              "      <th>8775</th>\n",
              "      <td>12/31/2012 15:00</td>\n",
              "      <td>-2.3</td>\n",
              "      <td>-4.6</td>\n",
              "      <td>84</td>\n",
              "      <td>9</td>\n",
              "      <td>9.7</td>\n",
              "      <td>100.47</td>\n",
              "      <td>Snow</td>\n",
              "    </tr>\n",
              "    <tr>\n",
              "      <th>8776</th>\n",
              "      <td>12/31/2012 16:00</td>\n",
              "      <td>-1.4</td>\n",
              "      <td>-4.0</td>\n",
              "      <td>82</td>\n",
              "      <td>13</td>\n",
              "      <td>12.9</td>\n",
              "      <td>100.40</td>\n",
              "      <td>Snow</td>\n",
              "    </tr>\n",
              "    <tr>\n",
              "      <th>8777</th>\n",
              "      <td>12/31/2012 17:00</td>\n",
              "      <td>-1.1</td>\n",
              "      <td>-3.3</td>\n",
              "      <td>85</td>\n",
              "      <td>19</td>\n",
              "      <td>9.7</td>\n",
              "      <td>100.30</td>\n",
              "      <td>Snow</td>\n",
              "    </tr>\n",
              "    <tr>\n",
              "      <th>8778</th>\n",
              "      <td>12/31/2012 18:00</td>\n",
              "      <td>-1.3</td>\n",
              "      <td>-3.1</td>\n",
              "      <td>88</td>\n",
              "      <td>17</td>\n",
              "      <td>9.7</td>\n",
              "      <td>100.19</td>\n",
              "      <td>Snow</td>\n",
              "    </tr>\n",
              "    <tr>\n",
              "      <th>8779</th>\n",
              "      <td>12/31/2012 19:00</td>\n",
              "      <td>0.1</td>\n",
              "      <td>-2.7</td>\n",
              "      <td>81</td>\n",
              "      <td>30</td>\n",
              "      <td>9.7</td>\n",
              "      <td>100.13</td>\n",
              "      <td>Snow</td>\n",
              "    </tr>\n",
              "    <tr>\n",
              "      <th>8780</th>\n",
              "      <td>12/31/2012 20:00</td>\n",
              "      <td>0.2</td>\n",
              "      <td>-2.4</td>\n",
              "      <td>83</td>\n",
              "      <td>24</td>\n",
              "      <td>9.7</td>\n",
              "      <td>100.03</td>\n",
              "      <td>Snow</td>\n",
              "    </tr>\n",
              "    <tr>\n",
              "      <th>8781</th>\n",
              "      <td>12/31/2012 21:00</td>\n",
              "      <td>-0.5</td>\n",
              "      <td>-1.5</td>\n",
              "      <td>93</td>\n",
              "      <td>28</td>\n",
              "      <td>4.8</td>\n",
              "      <td>99.95</td>\n",
              "      <td>Snow</td>\n",
              "    </tr>\n",
              "    <tr>\n",
              "      <th>8782</th>\n",
              "      <td>12/31/2012 22:00</td>\n",
              "      <td>-0.2</td>\n",
              "      <td>-1.8</td>\n",
              "      <td>89</td>\n",
              "      <td>28</td>\n",
              "      <td>9.7</td>\n",
              "      <td>99.91</td>\n",
              "      <td>Snow</td>\n",
              "    </tr>\n",
              "    <tr>\n",
              "      <th>8783</th>\n",
              "      <td>12/31/2012 23:00</td>\n",
              "      <td>0.0</td>\n",
              "      <td>-2.1</td>\n",
              "      <td>86</td>\n",
              "      <td>30</td>\n",
              "      <td>11.3</td>\n",
              "      <td>99.89</td>\n",
              "      <td>Snow</td>\n",
              "    </tr>\n",
              "  </tbody>\n",
              "</table>\n",
              "</div>"
            ],
            "text/plain": [
              "             Date/Time  Temp_C  ...  Press_kPa                Weather\n",
              "8680  12/27/2012 16:00    -4.5  ...     100.44      Snow,Blowing Snow\n",
              "8681  12/27/2012 17:00    -4.2  ...     100.47      Snow,Blowing Snow\n",
              "8682  12/27/2012 18:00    -4.0  ...     100.49      Snow,Blowing Snow\n",
              "8683  12/27/2012 19:00    -3.9  ...     100.52      Snow,Blowing Snow\n",
              "8684  12/27/2012 20:00    -3.7  ...     100.58                   Snow\n",
              "8685  12/27/2012 21:00    -3.7  ...     100.62  Freezing Drizzle,Snow\n",
              "8686  12/27/2012 22:00    -3.8  ...     100.65  Freezing Drizzle,Snow\n",
              "8687  12/27/2012 23:00    -4.0  ...     100.70                   Snow\n",
              "8688   12/28/2012 0:00    -4.2  ...     100.78  Freezing Drizzle,Snow\n",
              "8689   12/28/2012 1:00    -4.4  ...     100.83  Freezing Drizzle,Snow\n",
              "8690   12/28/2012 2:00    -4.3  ...     100.93  Freezing Drizzle,Snow\n",
              "8691   12/28/2012 3:00    -4.6  ...     101.01                   Snow\n",
              "8692   12/28/2012 4:00    -4.9  ...     101.00                   Snow\n",
              "8723  12/29/2012 11:00   -10.9  ...     101.09       Snow Showers,Fog\n",
              "8724  12/29/2012 12:00   -10.5  ...     100.93       Snow Showers,Fog\n",
              "8725  12/29/2012 13:00   -10.0  ...     100.63       Snow Showers,Fog\n",
              "8726  12/29/2012 14:00    -9.3  ...     100.60               Snow,Fog\n",
              "8727  12/29/2012 15:00    -8.8  ...     100.55               Snow,Fog\n",
              "8728  12/29/2012 16:00    -8.5  ...     100.49               Snow,Fog\n",
              "8729  12/29/2012 17:00    -9.0  ...     100.46               Snow,Fog\n",
              "8730  12/29/2012 18:00    -9.3  ...     100.38               Snow,Fog\n",
              "8731  12/29/2012 19:00    -9.5  ...     100.33               Snow,Fog\n",
              "8732  12/29/2012 20:00    -9.7  ...     100.25               Snow,Fog\n",
              "8733  12/29/2012 21:00    -9.8  ...     100.24               Snow,Fog\n",
              "8734  12/29/2012 22:00   -10.1  ...     100.20               Snow,Fog\n",
              "8735  12/29/2012 23:00   -10.0  ...     100.19               Snow,Fog\n",
              "8736   12/30/2012 0:00    -9.6  ...     100.23               Snow,Fog\n",
              "8737   12/30/2012 1:00    -9.4  ...     100.22               Snow,Fog\n",
              "8738   12/30/2012 2:00    -9.3  ...     100.28               Snow,Fog\n",
              "8739   12/30/2012 3:00    -9.1  ...     100.30               Snow,Fog\n",
              "8740   12/30/2012 4:00    -9.3  ...     100.28               Snow,Fog\n",
              "8741   12/30/2012 5:00    -9.1  ...     100.32               Snow,Fog\n",
              "8742   12/30/2012 6:00    -9.3  ...     100.39               Snow,Fog\n",
              "8767   12/31/2012 7:00    -9.3  ...     101.19           Snow Showers\n",
              "8768   12/31/2012 8:00    -8.6  ...     101.14           Snow Showers\n",
              "8769   12/31/2012 9:00    -8.1  ...     101.09                   Snow\n",
              "8770  12/31/2012 10:00    -7.4  ...     101.05               Snow,Fog\n",
              "8771  12/31/2012 11:00    -6.7  ...     100.93                   Snow\n",
              "8772  12/31/2012 12:00    -5.8  ...     100.78                   Snow\n",
              "8773  12/31/2012 13:00    -4.6  ...     100.63                   Snow\n",
              "8774  12/31/2012 14:00    -3.4  ...     100.57                   Snow\n",
              "8775  12/31/2012 15:00    -2.3  ...     100.47                   Snow\n",
              "8776  12/31/2012 16:00    -1.4  ...     100.40                   Snow\n",
              "8777  12/31/2012 17:00    -1.1  ...     100.30                   Snow\n",
              "8778  12/31/2012 18:00    -1.3  ...     100.19                   Snow\n",
              "8779  12/31/2012 19:00     0.1  ...     100.13                   Snow\n",
              "8780  12/31/2012 20:00     0.2  ...     100.03                   Snow\n",
              "8781  12/31/2012 21:00    -0.5  ...      99.95                   Snow\n",
              "8782  12/31/2012 22:00    -0.2  ...      99.91                   Snow\n",
              "8783  12/31/2012 23:00     0.0  ...      99.89                   Snow\n",
              "\n",
              "[50 rows x 8 columns]"
            ]
          },
          "metadata": {
            "tags": []
          },
          "execution_count": 67
        }
      ]
    },
    {
      "cell_type": "markdown",
      "metadata": {
        "id": "RoLygJL62l4J"
      },
      "source": [
        "### **Finding when wind speed is above 24 and visibility is 25**"
      ]
    },
    {
      "cell_type": "code",
      "metadata": {
        "colab": {
          "base_uri": "https://localhost:8080/",
          "height": 199
        },
        "id": "CgOD1fVm14eD",
        "outputId": "c80b5f5d-3d46-4f37-e6cd-0964d82d7033"
      },
      "source": [
        "data.head(2)"
      ],
      "execution_count": 68,
      "outputs": [
        {
          "output_type": "execute_result",
          "data": {
            "text/html": [
              "<div>\n",
              "<style scoped>\n",
              "    .dataframe tbody tr th:only-of-type {\n",
              "        vertical-align: middle;\n",
              "    }\n",
              "\n",
              "    .dataframe tbody tr th {\n",
              "        vertical-align: top;\n",
              "    }\n",
              "\n",
              "    .dataframe thead th {\n",
              "        text-align: right;\n",
              "    }\n",
              "</style>\n",
              "<table border=\"1\" class=\"dataframe\">\n",
              "  <thead>\n",
              "    <tr style=\"text-align: right;\">\n",
              "      <th></th>\n",
              "      <th>Date/Time</th>\n",
              "      <th>Temp_C</th>\n",
              "      <th>Dew Point Temp_C</th>\n",
              "      <th>Rel Hum_%</th>\n",
              "      <th>Wind Speed_km/h</th>\n",
              "      <th>Visibility_km</th>\n",
              "      <th>Press_kPa</th>\n",
              "      <th>Weather</th>\n",
              "    </tr>\n",
              "  </thead>\n",
              "  <tbody>\n",
              "    <tr>\n",
              "      <th>0</th>\n",
              "      <td>1/1/2012 0:00</td>\n",
              "      <td>-1.8</td>\n",
              "      <td>-3.9</td>\n",
              "      <td>86</td>\n",
              "      <td>4</td>\n",
              "      <td>8.0</td>\n",
              "      <td>101.24</td>\n",
              "      <td>Fog</td>\n",
              "    </tr>\n",
              "    <tr>\n",
              "      <th>1</th>\n",
              "      <td>1/1/2012 1:00</td>\n",
              "      <td>-1.8</td>\n",
              "      <td>-3.7</td>\n",
              "      <td>87</td>\n",
              "      <td>4</td>\n",
              "      <td>8.0</td>\n",
              "      <td>101.24</td>\n",
              "      <td>Fog</td>\n",
              "    </tr>\n",
              "  </tbody>\n",
              "</table>\n",
              "</div>"
            ],
            "text/plain": [
              "       Date/Time  Temp_C  Dew Point Temp_C  ...  Visibility_km  Press_kPa  Weather\n",
              "0  1/1/2012 0:00    -1.8              -3.9  ...            8.0     101.24      Fog\n",
              "1  1/1/2012 1:00    -1.8              -3.7  ...            8.0     101.24      Fog\n",
              "\n",
              "[2 rows x 8 columns]"
            ]
          },
          "metadata": {
            "tags": []
          },
          "execution_count": 68
        }
      ]
    },
    {
      "cell_type": "code",
      "metadata": {
        "colab": {
          "base_uri": "https://localhost:8080/",
          "height": 643
        },
        "id": "7iUw-aUj2uhY",
        "outputId": "41eefa3b-6a1b-419b-ef02-b9abc3db053d"
      },
      "source": [
        "data[(data['Wind Speed_km/h'] > 24) & (data['Visibility_km'] == 25 )]"
      ],
      "execution_count": 70,
      "outputs": [
        {
          "output_type": "execute_result",
          "data": {
            "text/html": [
              "<div>\n",
              "<style scoped>\n",
              "    .dataframe tbody tr th:only-of-type {\n",
              "        vertical-align: middle;\n",
              "    }\n",
              "\n",
              "    .dataframe tbody tr th {\n",
              "        vertical-align: top;\n",
              "    }\n",
              "\n",
              "    .dataframe thead th {\n",
              "        text-align: right;\n",
              "    }\n",
              "</style>\n",
              "<table border=\"1\" class=\"dataframe\">\n",
              "  <thead>\n",
              "    <tr style=\"text-align: right;\">\n",
              "      <th></th>\n",
              "      <th>Date/Time</th>\n",
              "      <th>Temp_C</th>\n",
              "      <th>Dew Point Temp_C</th>\n",
              "      <th>Rel Hum_%</th>\n",
              "      <th>Wind Speed_km/h</th>\n",
              "      <th>Visibility_km</th>\n",
              "      <th>Press_kPa</th>\n",
              "      <th>Weather</th>\n",
              "    </tr>\n",
              "  </thead>\n",
              "  <tbody>\n",
              "    <tr>\n",
              "      <th>23</th>\n",
              "      <td>1/1/2012 23:00</td>\n",
              "      <td>5.3</td>\n",
              "      <td>2.0</td>\n",
              "      <td>79</td>\n",
              "      <td>30</td>\n",
              "      <td>25.0</td>\n",
              "      <td>99.31</td>\n",
              "      <td>Cloudy</td>\n",
              "    </tr>\n",
              "    <tr>\n",
              "      <th>24</th>\n",
              "      <td>1/2/2012 0:00</td>\n",
              "      <td>5.2</td>\n",
              "      <td>1.5</td>\n",
              "      <td>77</td>\n",
              "      <td>35</td>\n",
              "      <td>25.0</td>\n",
              "      <td>99.26</td>\n",
              "      <td>Rain Showers</td>\n",
              "    </tr>\n",
              "    <tr>\n",
              "      <th>25</th>\n",
              "      <td>1/2/2012 1:00</td>\n",
              "      <td>4.6</td>\n",
              "      <td>0.0</td>\n",
              "      <td>72</td>\n",
              "      <td>39</td>\n",
              "      <td>25.0</td>\n",
              "      <td>99.26</td>\n",
              "      <td>Cloudy</td>\n",
              "    </tr>\n",
              "    <tr>\n",
              "      <th>26</th>\n",
              "      <td>1/2/2012 2:00</td>\n",
              "      <td>3.9</td>\n",
              "      <td>-0.9</td>\n",
              "      <td>71</td>\n",
              "      <td>32</td>\n",
              "      <td>25.0</td>\n",
              "      <td>99.26</td>\n",
              "      <td>Mostly Cloudy</td>\n",
              "    </tr>\n",
              "    <tr>\n",
              "      <th>27</th>\n",
              "      <td>1/2/2012 3:00</td>\n",
              "      <td>3.7</td>\n",
              "      <td>-1.5</td>\n",
              "      <td>69</td>\n",
              "      <td>33</td>\n",
              "      <td>25.0</td>\n",
              "      <td>99.30</td>\n",
              "      <td>Mostly Cloudy</td>\n",
              "    </tr>\n",
              "    <tr>\n",
              "      <th>...</th>\n",
              "      <td>...</td>\n",
              "      <td>...</td>\n",
              "      <td>...</td>\n",
              "      <td>...</td>\n",
              "      <td>...</td>\n",
              "      <td>...</td>\n",
              "      <td>...</td>\n",
              "      <td>...</td>\n",
              "    </tr>\n",
              "    <tr>\n",
              "      <th>8705</th>\n",
              "      <td>12/28/2012 17:00</td>\n",
              "      <td>-8.6</td>\n",
              "      <td>-12.0</td>\n",
              "      <td>76</td>\n",
              "      <td>26</td>\n",
              "      <td>25.0</td>\n",
              "      <td>101.34</td>\n",
              "      <td>Mainly Clear</td>\n",
              "    </tr>\n",
              "    <tr>\n",
              "      <th>8753</th>\n",
              "      <td>12/30/2012 17:00</td>\n",
              "      <td>-12.1</td>\n",
              "      <td>-15.8</td>\n",
              "      <td>74</td>\n",
              "      <td>28</td>\n",
              "      <td>25.0</td>\n",
              "      <td>101.26</td>\n",
              "      <td>Mainly Clear</td>\n",
              "    </tr>\n",
              "    <tr>\n",
              "      <th>8755</th>\n",
              "      <td>12/30/2012 19:00</td>\n",
              "      <td>-13.4</td>\n",
              "      <td>-16.5</td>\n",
              "      <td>77</td>\n",
              "      <td>26</td>\n",
              "      <td>25.0</td>\n",
              "      <td>101.47</td>\n",
              "      <td>Mainly Clear</td>\n",
              "    </tr>\n",
              "    <tr>\n",
              "      <th>8759</th>\n",
              "      <td>12/30/2012 23:00</td>\n",
              "      <td>-12.1</td>\n",
              "      <td>-15.1</td>\n",
              "      <td>78</td>\n",
              "      <td>28</td>\n",
              "      <td>25.0</td>\n",
              "      <td>101.52</td>\n",
              "      <td>Mostly Cloudy</td>\n",
              "    </tr>\n",
              "    <tr>\n",
              "      <th>8760</th>\n",
              "      <td>12/31/2012 0:00</td>\n",
              "      <td>-11.1</td>\n",
              "      <td>-14.4</td>\n",
              "      <td>77</td>\n",
              "      <td>26</td>\n",
              "      <td>25.0</td>\n",
              "      <td>101.51</td>\n",
              "      <td>Cloudy</td>\n",
              "    </tr>\n",
              "  </tbody>\n",
              "</table>\n",
              "<p>308 rows × 8 columns</p>\n",
              "</div>"
            ],
            "text/plain": [
              "             Date/Time  Temp_C  ...  Press_kPa        Weather\n",
              "23      1/1/2012 23:00     5.3  ...      99.31         Cloudy\n",
              "24       1/2/2012 0:00     5.2  ...      99.26   Rain Showers\n",
              "25       1/2/2012 1:00     4.6  ...      99.26         Cloudy\n",
              "26       1/2/2012 2:00     3.9  ...      99.26  Mostly Cloudy\n",
              "27       1/2/2012 3:00     3.7  ...      99.30  Mostly Cloudy\n",
              "...                ...     ...  ...        ...            ...\n",
              "8705  12/28/2012 17:00    -8.6  ...     101.34   Mainly Clear\n",
              "8753  12/30/2012 17:00   -12.1  ...     101.26   Mainly Clear\n",
              "8755  12/30/2012 19:00   -13.4  ...     101.47   Mainly Clear\n",
              "8759  12/30/2012 23:00   -12.1  ...     101.52  Mostly Cloudy\n",
              "8760   12/31/2012 0:00   -11.1  ...     101.51         Cloudy\n",
              "\n",
              "[308 rows x 8 columns]"
            ]
          },
          "metadata": {
            "tags": []
          },
          "execution_count": 70
        }
      ]
    },
    {
      "cell_type": "code",
      "metadata": {
        "id": "4U7Dfbt822zk"
      },
      "source": [
        ""
      ],
      "execution_count": null,
      "outputs": []
    }
  ]
}